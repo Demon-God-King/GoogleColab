{
  "cells": [
    {
      "cell_type": "markdown",
      "metadata": {
        "id": "view-in-github",
        "colab_type": "text"
      },
      "source": [
        "<a href=\"https://colab.research.google.com/github/Demon-God-King/GoogleColab/blob/main/class_grades.ipynb\" target=\"_parent\"><img src=\"https://colab.research.google.com/assets/colab-badge.svg\" alt=\"Open In Colab\"/></a>"
      ]
    },
    {
      "cell_type": "markdown",
      "id": "5a54c869",
      "metadata": {
        "id": "5a54c869"
      },
      "source": [
        "# Looking at the impact of attendance and homework in class grades"
      ]
    },
    {
      "cell_type": "code",
      "execution_count": null,
      "id": "8235b56d",
      "metadata": {
        "id": "8235b56d"
      },
      "outputs": [],
      "source": [
        "import numpy as np\n",
        "import pandas as pd\n",
        "import matplotlib.pyplot as plt\n",
        "from matplotlib import rcParams\n",
        "import seaborn as sns"
      ]
    },
    {
      "cell_type": "markdown",
      "id": "85285d84",
      "metadata": {
        "id": "85285d84"
      },
      "source": [
        "It's interesting to look at how absences and missing homework assignments relate to course grades.\n",
        "\n",
        "I created a data set by taking grade information from a section of CST 383 from a couple of years ago, anonymizing the data, and then randomizing the data a little.  So this data is not real, but the results you'll get will be similar to what you'd get with the real data.\n",
        "\n",
        "Every row in the dataset represents a student.  The columns give average scores for things like homework, quizzes, and projects, the total score for the course, the number of absences, and the number of homework assignments not turned in.  (Actually, I treated homework assignments with very low scores as missing homework assignments.)"
      ]
    },
    {
      "cell_type": "markdown",
      "id": "53bd6f77",
      "metadata": {
        "id": "53bd6f77"
      },
      "source": [
        "### Instructions (read carefully)\n",
        "\n",
        "- After each problem, enter your code in the cell below.  Never modify dataframe df.\n",
        "\n",
        "- When plotting, give your plot a title plus x and y axis labels.  I will mention when certain axis labels aren't needed.\n",
        "\n",
        "- Do not modify any other cells, except for the cell below that specifies the default plot size.  Don't add any import statements.\n",
        "\n",
        "- In a cell containing plotting statements, but sure to add a semi-colon after the last plotting statement in the cell.\n",
        "\n",
        "- Points will be deducted for code that is untidy or achieves the result in a strange way.\n",
        "\n",
        "- Be sure to **restart and run all** before submitting.  If this has not been done, your homework won't be graded."
      ]
    },
    {
      "cell_type": "markdown",
      "id": "730f2827",
      "metadata": {
        "id": "730f2827"
      },
      "source": [
        "#### Set plotting options"
      ]
    },
    {
      "cell_type": "code",
      "execution_count": null,
      "id": "e910c8b5",
      "metadata": {
        "id": "e910c8b5"
      },
      "outputs": [],
      "source": [
        "# use the seaborn default stylistic parameters\n",
        "# see the very useful https://seaborn.pydata.org/tutorial/aesthetics.html\n",
        "sns.set()\n",
        "# select the plotting style\n",
        "sns.set_style('whitegrid')\n",
        "# sets overall plotting parameters\n",
        "sns.set_context('notebook')   # 'paper', 'notebook', or 'talk"
      ]
    },
    {
      "cell_type": "markdown",
      "id": "a3aacbe1",
      "metadata": {
        "id": "a3aacbe1"
      },
      "source": [
        "You may need to modify the code in this cell, depending on your device."
      ]
    },
    {
      "cell_type": "code",
      "execution_count": null,
      "id": "1caf3a83",
      "metadata": {
        "id": "1caf3a83"
      },
      "outputs": [],
      "source": [
        "# set default plot size\n",
        "rcParams['figure.figsize'] = 6,4"
      ]
    },
    {
      "cell_type": "markdown",
      "id": "4b7f728b",
      "metadata": {
        "id": "4b7f728b"
      },
      "source": [
        "### Read the data"
      ]
    },
    {
      "cell_type": "code",
      "execution_count": null,
      "id": "52895f4e",
      "metadata": {
        "id": "52895f4e"
      },
      "outputs": [],
      "source": [
        "df = pd.read_csv('https://raw.githubusercontent.com/grbruns/cst383/master/fake-grades.csv')"
      ]
    },
    {
      "cell_type": "markdown",
      "id": "7ad9362d",
      "metadata": {
        "id": "7ad9362d"
      },
      "source": [
        "### Basic exploration"
      ]
    },
    {
      "cell_type": "code",
      "execution_count": null,
      "id": "3f52b211",
      "metadata": {
        "colab": {
          "base_uri": "https://localhost:8080/"
        },
        "id": "3f52b211",
        "outputId": "f30604b2-21bf-49ce-8e9c-814d43aa4179"
      },
      "outputs": [
        {
          "output_type": "stream",
          "name": "stdout",
          "text": [
            "<class 'pandas.core.frame.DataFrame'>\n",
            "RangeIndex: 38 entries, 0 to 37\n",
            "Data columns (total 7 columns):\n",
            " #   Column              Non-Null Count  Dtype\n",
            "---  ------              --------------  -----\n",
            " 0   Number_days_missed  38 non-null     int64\n",
            " 1   Number_hw_missed    38 non-null     int64\n",
            " 2   Homework            38 non-null     int64\n",
            " 3   Quizzes             38 non-null     int64\n",
            " 4   Projects            38 non-null     int64\n",
            " 5   Final               38 non-null     int64\n",
            " 6   Total               38 non-null     int64\n",
            "dtypes: int64(7)\n",
            "memory usage: 2.2 KB\n"
          ]
        }
      ],
      "source": [
        "df.info()"
      ]
    },
    {
      "cell_type": "code",
      "execution_count": null,
      "id": "f8976ae6",
      "metadata": {
        "colab": {
          "base_uri": "https://localhost:8080/",
          "height": 300
        },
        "id": "f8976ae6",
        "outputId": "5877948b-6475-42d0-d48a-222b76fe3459"
      },
      "outputs": [
        {
          "output_type": "execute_result",
          "data": {
            "text/plain": [
              "       Number_days_missed  Number_hw_missed    Homework    Quizzes   Projects  \\\n",
              "count           38.000000         38.000000   38.000000  38.000000  38.000000   \n",
              "mean             1.710526          2.236842   82.105263  74.000000  81.947368   \n",
              "std              1.829309          2.341566   16.859979  12.642699  11.608355   \n",
              "min              0.000000          0.000000   42.000000  48.000000  35.000000   \n",
              "25%              0.000000          0.250000   69.250000  70.000000  77.250000   \n",
              "50%              1.000000          1.500000   85.000000  73.500000  83.500000   \n",
              "75%              3.000000          3.750000   96.000000  80.750000  89.000000   \n",
              "max              7.000000         10.000000  103.000000  99.000000  96.000000   \n",
              "\n",
              "           Final      Total  \n",
              "count  38.000000  38.000000  \n",
              "mean   83.342105  82.578947  \n",
              "std    11.060708   9.350911  \n",
              "min    56.000000  58.000000  \n",
              "25%    77.250000  76.000000  \n",
              "50%    83.500000  85.000000  \n",
              "75%    92.000000  89.000000  \n",
              "max    99.000000  99.000000  "
            ],
            "text/html": [
              "\n",
              "  <div id=\"df-0dd5f431-26bf-446f-a2b5-c4268ae2df1f\">\n",
              "    <div class=\"colab-df-container\">\n",
              "      <div>\n",
              "<style scoped>\n",
              "    .dataframe tbody tr th:only-of-type {\n",
              "        vertical-align: middle;\n",
              "    }\n",
              "\n",
              "    .dataframe tbody tr th {\n",
              "        vertical-align: top;\n",
              "    }\n",
              "\n",
              "    .dataframe thead th {\n",
              "        text-align: right;\n",
              "    }\n",
              "</style>\n",
              "<table border=\"1\" class=\"dataframe\">\n",
              "  <thead>\n",
              "    <tr style=\"text-align: right;\">\n",
              "      <th></th>\n",
              "      <th>Number_days_missed</th>\n",
              "      <th>Number_hw_missed</th>\n",
              "      <th>Homework</th>\n",
              "      <th>Quizzes</th>\n",
              "      <th>Projects</th>\n",
              "      <th>Final</th>\n",
              "      <th>Total</th>\n",
              "    </tr>\n",
              "  </thead>\n",
              "  <tbody>\n",
              "    <tr>\n",
              "      <th>count</th>\n",
              "      <td>38.000000</td>\n",
              "      <td>38.000000</td>\n",
              "      <td>38.000000</td>\n",
              "      <td>38.000000</td>\n",
              "      <td>38.000000</td>\n",
              "      <td>38.000000</td>\n",
              "      <td>38.000000</td>\n",
              "    </tr>\n",
              "    <tr>\n",
              "      <th>mean</th>\n",
              "      <td>1.710526</td>\n",
              "      <td>2.236842</td>\n",
              "      <td>82.105263</td>\n",
              "      <td>74.000000</td>\n",
              "      <td>81.947368</td>\n",
              "      <td>83.342105</td>\n",
              "      <td>82.578947</td>\n",
              "    </tr>\n",
              "    <tr>\n",
              "      <th>std</th>\n",
              "      <td>1.829309</td>\n",
              "      <td>2.341566</td>\n",
              "      <td>16.859979</td>\n",
              "      <td>12.642699</td>\n",
              "      <td>11.608355</td>\n",
              "      <td>11.060708</td>\n",
              "      <td>9.350911</td>\n",
              "    </tr>\n",
              "    <tr>\n",
              "      <th>min</th>\n",
              "      <td>0.000000</td>\n",
              "      <td>0.000000</td>\n",
              "      <td>42.000000</td>\n",
              "      <td>48.000000</td>\n",
              "      <td>35.000000</td>\n",
              "      <td>56.000000</td>\n",
              "      <td>58.000000</td>\n",
              "    </tr>\n",
              "    <tr>\n",
              "      <th>25%</th>\n",
              "      <td>0.000000</td>\n",
              "      <td>0.250000</td>\n",
              "      <td>69.250000</td>\n",
              "      <td>70.000000</td>\n",
              "      <td>77.250000</td>\n",
              "      <td>77.250000</td>\n",
              "      <td>76.000000</td>\n",
              "    </tr>\n",
              "    <tr>\n",
              "      <th>50%</th>\n",
              "      <td>1.000000</td>\n",
              "      <td>1.500000</td>\n",
              "      <td>85.000000</td>\n",
              "      <td>73.500000</td>\n",
              "      <td>83.500000</td>\n",
              "      <td>83.500000</td>\n",
              "      <td>85.000000</td>\n",
              "    </tr>\n",
              "    <tr>\n",
              "      <th>75%</th>\n",
              "      <td>3.000000</td>\n",
              "      <td>3.750000</td>\n",
              "      <td>96.000000</td>\n",
              "      <td>80.750000</td>\n",
              "      <td>89.000000</td>\n",
              "      <td>92.000000</td>\n",
              "      <td>89.000000</td>\n",
              "    </tr>\n",
              "    <tr>\n",
              "      <th>max</th>\n",
              "      <td>7.000000</td>\n",
              "      <td>10.000000</td>\n",
              "      <td>103.000000</td>\n",
              "      <td>99.000000</td>\n",
              "      <td>96.000000</td>\n",
              "      <td>99.000000</td>\n",
              "      <td>99.000000</td>\n",
              "    </tr>\n",
              "  </tbody>\n",
              "</table>\n",
              "</div>\n",
              "      <button class=\"colab-df-convert\" onclick=\"convertToInteractive('df-0dd5f431-26bf-446f-a2b5-c4268ae2df1f')\"\n",
              "              title=\"Convert this dataframe to an interactive table.\"\n",
              "              style=\"display:none;\">\n",
              "        \n",
              "  <svg xmlns=\"http://www.w3.org/2000/svg\" height=\"24px\"viewBox=\"0 0 24 24\"\n",
              "       width=\"24px\">\n",
              "    <path d=\"M0 0h24v24H0V0z\" fill=\"none\"/>\n",
              "    <path d=\"M18.56 5.44l.94 2.06.94-2.06 2.06-.94-2.06-.94-.94-2.06-.94 2.06-2.06.94zm-11 1L8.5 8.5l.94-2.06 2.06-.94-2.06-.94L8.5 2.5l-.94 2.06-2.06.94zm10 10l.94 2.06.94-2.06 2.06-.94-2.06-.94-.94-2.06-.94 2.06-2.06.94z\"/><path d=\"M17.41 7.96l-1.37-1.37c-.4-.4-.92-.59-1.43-.59-.52 0-1.04.2-1.43.59L10.3 9.45l-7.72 7.72c-.78.78-.78 2.05 0 2.83L4 21.41c.39.39.9.59 1.41.59.51 0 1.02-.2 1.41-.59l7.78-7.78 2.81-2.81c.8-.78.8-2.07 0-2.86zM5.41 20L4 18.59l7.72-7.72 1.47 1.35L5.41 20z\"/>\n",
              "  </svg>\n",
              "      </button>\n",
              "      \n",
              "  <style>\n",
              "    .colab-df-container {\n",
              "      display:flex;\n",
              "      flex-wrap:wrap;\n",
              "      gap: 12px;\n",
              "    }\n",
              "\n",
              "    .colab-df-convert {\n",
              "      background-color: #E8F0FE;\n",
              "      border: none;\n",
              "      border-radius: 50%;\n",
              "      cursor: pointer;\n",
              "      display: none;\n",
              "      fill: #1967D2;\n",
              "      height: 32px;\n",
              "      padding: 0 0 0 0;\n",
              "      width: 32px;\n",
              "    }\n",
              "\n",
              "    .colab-df-convert:hover {\n",
              "      background-color: #E2EBFA;\n",
              "      box-shadow: 0px 1px 2px rgba(60, 64, 67, 0.3), 0px 1px 3px 1px rgba(60, 64, 67, 0.15);\n",
              "      fill: #174EA6;\n",
              "    }\n",
              "\n",
              "    [theme=dark] .colab-df-convert {\n",
              "      background-color: #3B4455;\n",
              "      fill: #D2E3FC;\n",
              "    }\n",
              "\n",
              "    [theme=dark] .colab-df-convert:hover {\n",
              "      background-color: #434B5C;\n",
              "      box-shadow: 0px 1px 3px 1px rgba(0, 0, 0, 0.15);\n",
              "      filter: drop-shadow(0px 1px 2px rgba(0, 0, 0, 0.3));\n",
              "      fill: #FFFFFF;\n",
              "    }\n",
              "  </style>\n",
              "\n",
              "      <script>\n",
              "        const buttonEl =\n",
              "          document.querySelector('#df-0dd5f431-26bf-446f-a2b5-c4268ae2df1f button.colab-df-convert');\n",
              "        buttonEl.style.display =\n",
              "          google.colab.kernel.accessAllowed ? 'block' : 'none';\n",
              "\n",
              "        async function convertToInteractive(key) {\n",
              "          const element = document.querySelector('#df-0dd5f431-26bf-446f-a2b5-c4268ae2df1f');\n",
              "          const dataTable =\n",
              "            await google.colab.kernel.invokeFunction('convertToInteractive',\n",
              "                                                     [key], {});\n",
              "          if (!dataTable) return;\n",
              "\n",
              "          const docLinkHtml = 'Like what you see? Visit the ' +\n",
              "            '<a target=\"_blank\" href=https://colab.research.google.com/notebooks/data_table.ipynb>data table notebook</a>'\n",
              "            + ' to learn more about interactive tables.';\n",
              "          element.innerHTML = '';\n",
              "          dataTable['output_type'] = 'display_data';\n",
              "          await google.colab.output.renderOutput(dataTable, element);\n",
              "          const docLink = document.createElement('div');\n",
              "          docLink.innerHTML = docLinkHtml;\n",
              "          element.appendChild(docLink);\n",
              "        }\n",
              "      </script>\n",
              "    </div>\n",
              "  </div>\n",
              "  "
            ]
          },
          "metadata": {},
          "execution_count": 6
        }
      ],
      "source": [
        "df.describe()"
      ]
    },
    {
      "cell_type": "markdown",
      "id": "ab847b9b",
      "metadata": {
        "id": "ab847b9b"
      },
      "source": [
        "#### Problem 1\n",
        "\n",
        "What is the distribution of course scores?\n",
        "\n",
        "Create a histogram of variable Total, which is the score for the class.\n",
        "\n",
        "Be sure to include a sensible title and x axis label.  (For histograms a custom y axis label is not needed, because it will always be counts.)\n",
        "\n",
        "I like to start the title with a capital letter, but to use all lower-case letters in my axis labels.  You can start the axis labels with capital letters if you prefer.\n",
        "\n",
        "Create your plot using Pandas."
      ]
    },
    {
      "cell_type": "code",
      "execution_count": null,
      "id": "8dc06977",
      "metadata": {
        "colab": {
          "base_uri": "https://localhost:8080/",
          "height": 318
        },
        "id": "8dc06977",
        "outputId": "ee5d0a0a-df22-44f6-eb5d-e6da0adaa4c9"
      },
      "outputs": [
        {
          "output_type": "execute_result",
          "data": {
            "text/plain": [
              "Text(0, 0.5, 'frequency')"
            ]
          },
          "metadata": {},
          "execution_count": 7
        },
        {
          "output_type": "display_data",
          "data": {
            "text/plain": [
              "<Figure size 432x288 with 1 Axes>"
            ],
            "image/png": "[encoded data removed]"
          },
          "metadata": {}
        }
      ],
      "source": [
        "plt.hist(df['Total'])\n",
        "plt.title('Histogram of course of total score')\n",
        "plt.xlabel('total score')\n",
        "plt.ylabel('frequency');"
      ]
    },
    {
      "cell_type": "markdown",
      "id": "71b8ce79",
      "metadata": {
        "id": "71b8ce79"
      },
      "source": [
        "#### Problem 2\n",
        "\n",
        "How does the distribution of course scores appear if we use a density plot?\n",
        "\n",
        "Create a density plot of variable Total.\n",
        "\n",
        "Be sure to include a sensible title and x axis label.  (For density plots a custom y axis label is not needed, because it will always be counts.)\n",
        "\n",
        "Create your plot using Pandas."
      ]
    },
    {
      "cell_type": "code",
      "execution_count": null,
      "id": "874f3ec4",
      "metadata": {
        "colab": {
          "base_uri": "https://localhost:8080/",
          "height": 318
        },
        "id": "874f3ec4",
        "outputId": "fb280ce6-d80b-48df-f5fa-284c958376b9"
      },
      "outputs": [
        {
          "output_type": "execute_result",
          "data": {
            "text/plain": [
              "Text(0.5, 0, 'total score')"
            ]
          },
          "metadata": {},
          "execution_count": 8
        },
        {
          "output_type": "display_data",
          "data": {
            "text/plain": [
              "<Figure size 432x288 with 1 Axes>"
            ],
            "image/png": "[encoded data removed]"
          },
          "metadata": {}
        }
      ],
      "source": [
        "# YOUR CODE HERE\n",
        "df['Total'].plot.density()\n",
        "plt.title('Density of course total score')\n",
        "plt.xlabel('total score');"
      ]
    },
    {
      "cell_type": "markdown",
      "id": "b26470ee",
      "metadata": {
        "id": "b26470ee"
      },
      "source": [
        "#### Problem 3\n",
        "\n",
        "Did students tend to miss a lot of days of class?\n",
        "\n",
        "Use a bar plot to plot the number of occurrences of each value of Num_days_missed in the dataset.\n",
        "\n",
        "Use value_counts() to get the number of occurences.\n",
        "\n",
        "The bars should appear in order of number of absences.  To do this, you can sort the result of value_counts().  There are two main Pandas methods for sorting a series: .sort_values() and .sort_index()."
      ]
    },
    {
      "cell_type": "code",
      "execution_count": null,
      "id": "61fd2fa3",
      "metadata": {
        "colab": {
          "base_uri": "https://localhost:8080/",
          "height": 315
        },
        "id": "61fd2fa3",
        "outputId": "1d7958df-5bd3-4c33-c0b9-870875cf7210"
      },
      "outputs": [
        {
          "output_type": "execute_result",
          "data": {
            "text/plain": [
              "Text(0.5, 0, 'Number of absences')"
            ]
          },
          "metadata": {},
          "execution_count": 9
        },
        {
          "output_type": "display_data",
          "data": {
            "text/plain": [
              "<Figure size 432x288 with 1 Axes>"
            ],
            "image/png": "[encoded data removed]"
          },
          "metadata": {}
        }
      ],
      "source": [
        "# YOUR CODE HERE\n",
        "a=(df['Number_days_missed'].value_counts()).sort_index()\n",
        "a.plot.bar()\n",
        "plt.title('Number of absences during semester')\n",
        "plt.ylabel('Number of students')\n",
        "plt.xlabel('Number of absences');\n",
        "#df['Number_days_missed'].value_counts()"
      ]
    },
    {
      "cell_type": "markdown",
      "id": "d5149fff",
      "metadata": {
        "id": "d5149fff"
      },
      "source": [
        "#### Problem 4\n",
        "\n",
        "What are the probabilities for each number of absences?\n",
        "\n",
        "Create a probability mass function (PMF) plot for variable Number_days_missed, where the probabilities are estimated from the data.  Use a bar plot.\n",
        "\n",
        "As in the last problem, the number of absences should increase on the x axis.\n",
        "\n",
        "You will again use value_counts(), but use the 'normalize' parameter."
      ]
    },
    {
      "cell_type": "code",
      "execution_count": null,
      "id": "8085a0ff",
      "metadata": {
        "colab": {
          "base_uri": "https://localhost:8080/",
          "height": 315
        },
        "id": "8085a0ff",
        "outputId": "667b0370-328c-41ff-a0e9-a05bd3a1e47b"
      },
      "outputs": [
        {
          "output_type": "execute_result",
          "data": {
            "text/plain": [
              "Text(0.5, 0, 'Number of absences')"
            ]
          },
          "metadata": {},
          "execution_count": 10
        },
        {
          "output_type": "display_data",
          "data": {
            "text/plain": [
              "<Figure size 432x288 with 1 Axes>"
            ],
            "image/png": "[encoded data removed]"
          },
          "metadata": {}
        }
      ],
      "source": [
        "# YOUR CODE HERE\n",
        "a=(df['Number_days_missed'].value_counts(normalize=True)).sort_index()\n",
        "a.plot.bar()\n",
        "plt.title('Number of absences during semester')\n",
        "plt.ylabel('Probability')\n",
        "plt.xlabel('Number of absences');"
      ]
    },
    {
      "cell_type": "markdown",
      "id": "e2ceeee1",
      "metadata": {
        "id": "e2ceeee1"
      },
      "source": [
        "#### Problem 5\n",
        "\n",
        "What is the probability of 4 absences or less?  It will be easy to see if we plot the cumulative distribution function (CDF).\n",
        "\n",
        "Repeat the previous problem, but this time plot the CDF.\n",
        "\n",
        "Don't forget function cumsum()."
      ]
    },
    {
      "cell_type": "code",
      "execution_count": null,
      "id": "2a529c2f",
      "metadata": {
        "colab": {
          "base_uri": "https://localhost:8080/",
          "height": 315
        },
        "id": "2a529c2f",
        "outputId": "2d4b2f22-248b-4653-a3c8-8770d637e7c1"
      },
      "outputs": [
        {
          "output_type": "execute_result",
          "data": {
            "text/plain": [
              "Text(0.5, 0, 'Number of absences')"
            ]
          },
          "metadata": {},
          "execution_count": 11
        },
        {
          "output_type": "display_data",
          "data": {
            "text/plain": [
              "<Figure size 432x288 with 1 Axes>"
            ],
            "image/png": "[encoded data removed]"
          },
          "metadata": {}
        }
      ],
      "source": [
        "# YOUR CODE HERE\n",
        "a=(df['Number_days_missed']).value_counts(normalize=True).cumsum()\n",
        "a.plot.bar()\n",
        "plt.title('Number of absences during semester')\n",
        "plt.ylabel('Probability')\n",
        "plt.xlabel('Number of absences');\n",
        "#df['Number_days_missed'].value_counts()"
      ]
    },
    {
      "cell_type": "markdown",
      "id": "7400c0e8",
      "metadata": {
        "id": "7400c0e8"
      },
      "source": [
        "#### Problem 6\n",
        "\n",
        "What is the probability of not doing a homework assignment?\n",
        "\n",
        "Create a PMF plot for variable Number_missing_hw.\n",
        "\n",
        "The number of missing HW assignments should increase on the x axis."
      ]
    },
    {
      "cell_type": "code",
      "execution_count": null,
      "id": "75c1e7a2",
      "metadata": {
        "colab": {
          "base_uri": "https://localhost:8080/",
          "height": 322
        },
        "id": "75c1e7a2",
        "outputId": "a031f1ce-d580-4553-85db-9e353dec1ac5"
      },
      "outputs": [
        {
          "output_type": "execute_result",
          "data": {
            "text/plain": [
              "Text(0.5, 0, 'Number of HW assignments ')"
            ]
          },
          "metadata": {},
          "execution_count": 12
        },
        {
          "output_type": "display_data",
          "data": {
            "text/plain": [
              "<Figure size 432x288 with 1 Axes>"
            ],
            "image/png": "[encoded data removed]"
          },
          "metadata": {}
        }
      ],
      "source": [
        "# YOUR CODE HERE\n",
        "a=(df['Number_hw_missed']).value_counts(normalize=True).sort_index()\n",
        "a.plot.bar()\n",
        "plt.title('Probablity of number of missing homework assignments')\n",
        "plt.ylabel('Probability')\n",
        "plt.xlabel('Number of HW assignments ');"
      ]
    },
    {
      "cell_type": "markdown",
      "id": "c38fe940",
      "metadata": {
        "id": "c38fe940"
      },
      "source": [
        "### Basic statistics"
      ]
    },
    {
      "cell_type": "markdown",
      "id": "1b600335",
      "metadata": {
        "id": "1b600335"
      },
      "source": [
        "#### Problem 7\n",
        "\n",
        "What is the average class score?\n",
        "\n",
        "Print the average of variable Total.\n",
        "\n",
        "Print using 1 digit to the right of the decimal point."
      ]
    },
    {
      "cell_type": "code",
      "execution_count": null,
      "id": "08324d40",
      "metadata": {
        "colab": {
          "base_uri": "https://localhost:8080/"
        },
        "id": "08324d40",
        "outputId": "7931ceb8-db03-4dfc-87a3-d3d9a4f6d47c"
      },
      "outputs": [
        {
          "output_type": "stream",
          "name": "stdout",
          "text": [
            "Average class score: 82.6\n"
          ]
        }
      ],
      "source": [
        "# YOUR CODE HERE\n",
        "x = df['Total'].mean()\n",
        "print(f'Average class score: {x:.1f}')"
      ]
    },
    {
      "cell_type": "markdown",
      "id": "82b93906",
      "metadata": {
        "id": "82b93906"
      },
      "source": [
        "#### Problem 8\n",
        "\n",
        "What is the median class score?  Is it very different from the mean?\n",
        "\n",
        "Repeat the previous problem, but with the median."
      ]
    },
    {
      "cell_type": "code",
      "execution_count": null,
      "id": "3173fc76",
      "metadata": {
        "colab": {
          "base_uri": "https://localhost:8080/"
        },
        "id": "3173fc76",
        "outputId": "75591039-8ceb-41df-8b4c-ba7fa9703fb8"
      },
      "outputs": [
        {
          "output_type": "stream",
          "name": "stdout",
          "text": [
            "Average class score: 85.0\n"
          ]
        }
      ],
      "source": [
        "# YOUR CODE HERE\n",
        "x = df['Total'].median()\n",
        "print(f'Average class score: {x:.1f}')"
      ]
    },
    {
      "cell_type": "markdown",
      "id": "d155be39",
      "metadata": {
        "id": "d155be39"
      },
      "source": [
        "#### Problem 10\n",
        "\n",
        "What is the standard deviation of the class score?\n",
        "\n",
        "Repeat the previous problem, but with standard deviation.  Print two digits to the right of the decimal point in this problem."
      ]
    },
    {
      "cell_type": "code",
      "execution_count": null,
      "id": "3b1a6e09",
      "metadata": {
        "colab": {
          "base_uri": "https://localhost:8080/"
        },
        "id": "3b1a6e09",
        "outputId": "1728dedd-359c-4477-9fd8-ca4261f5edfe"
      },
      "outputs": [
        {
          "output_type": "stream",
          "name": "stdout",
          "text": [
            "Standard deviation of class score: 9.35\n"
          ]
        }
      ],
      "source": [
        "# YOUR CODE HERE\n",
        "x=df['Total'].std()\n",
        "print(f'Standard deviation of class score: {x:.2f}')"
      ]
    },
    {
      "cell_type": "markdown",
      "id": "5df2bc02",
      "metadata": {
        "id": "5df2bc02"
      },
      "source": [
        "#### Problem 11\n",
        "\n",
        "Are the course total scores more spread out than the course project scores?\n",
        "\n",
        "Repeat the previous problem, but with total project score instead of total course score.  Print two digits to the right of the decimal point in this problem."
      ]
    },
    {
      "cell_type": "code",
      "execution_count": null,
      "id": "4ed10cbd",
      "metadata": {
        "colab": {
          "base_uri": "https://localhost:8080/"
        },
        "id": "4ed10cbd",
        "outputId": "241e52e4-f33e-4f6b-a2b9-25f81e1a6ae8"
      },
      "outputs": [
        {
          "output_type": "stream",
          "name": "stdout",
          "text": [
            "Standard deviation of project score: 11.61\n"
          ]
        }
      ],
      "source": [
        "# YOUR CODE HERE\n",
        "x=df['Projects'].std()\n",
        "print(f'Standard deviation of project score: {x:.2f}')"
      ]
    },
    {
      "cell_type": "markdown",
      "id": "eb4d345f",
      "metadata": {
        "id": "eb4d345f"
      },
      "source": [
        "#### Problem 13\n",
        "\n",
        "How do the standard deviations for all course projects and assignments compare?\n",
        "\n",
        "We can see this with the output of .describe(), but I want you to compute it using simple aggregation.\n",
        "\n",
        "Print the standard deviation for all columns of df except for Number_hw_missed and Number_days_missed.  List the components in the same order as they appear in dataframe df.\n",
        "\n",
        "Print two digits to the right of the decimal point.  You can do this using .round(), but don't modify the df dataframe."
      ]
    },
    {
      "cell_type": "code",
      "execution_count": null,
      "id": "a7fa52c5",
      "metadata": {
        "colab": {
          "base_uri": "https://localhost:8080/"
        },
        "id": "a7fa52c5",
        "outputId": "806f761e-643b-4d6e-92d6-24116f3c5a35"
      },
      "outputs": [
        {
          "output_type": "stream",
          "name": "stdout",
          "text": [
            "Homework    16.86\n",
            "Quizzes     12.64\n",
            "Projects    11.61\n",
            "Final       11.06\n",
            "Total        9.35\n",
            "dtype: float64\n"
          ]
        }
      ],
      "source": [
        "# YOUR CODE HERE\n",
        "print(df[['Homework','Quizzes','Projects','Final','Total']].std().round(2))\n",
        "#x=df[['Homework','Quizzes','Projects','Final','Total']].std()\n",
        "#print(f'Standard deviation of all grade components: {x:.2f}')"
      ]
    },
    {
      "cell_type": "markdown",
      "id": "5a412194",
      "metadata": {
        "id": "5a412194"
      },
      "source": [
        "### Estimated probabilities"
      ]
    },
    {
      "cell_type": "markdown",
      "id": "849d8d3a",
      "metadata": {
        "id": "849d8d3a"
      },
      "source": [
        "#### Problem 14\n",
        "\n",
        "What's the probability of passing?  In other words, of having a course total >= 70.\n",
        "\n",
        "Estimate P(Total >= 70) from the data and print it.  It's a marginal probability.  Remember, all probability values are between 0 and 1.  Use three significant digits."
      ]
    },
    {
      "cell_type": "code",
      "execution_count": null,
      "id": "55a75179",
      "metadata": {
        "colab": {
          "base_uri": "https://localhost:8080/"
        },
        "id": "55a75179",
        "outputId": "21e7a0bf-c3ad-4167-bd5b-d19b00cd15c3"
      },
      "outputs": [
        {
          "output_type": "stream",
          "name": "stdout",
          "text": [
            "P(Total >= 70): 0.921\n"
          ]
        }
      ],
      "source": [
        "# YOUR CODE HERE\n",
        "x=(df['Total'] >= 70).mean()\n",
        "print(f'P(Total >= 70): {x:.3f}')"
      ]
    },
    {
      "cell_type": "markdown",
      "id": "ea5a87c2",
      "metadata": {
        "id": "ea5a87c2"
      },
      "source": [
        "#### Problem 15\n",
        "\n",
        "What's the probability of getting an A?  In other words, of having a course total of at least 90.\n",
        "\n",
        "Repeat the previous problem but using 90 instead of 70."
      ]
    },
    {
      "cell_type": "code",
      "execution_count": null,
      "id": "61d06a40",
      "metadata": {
        "colab": {
          "base_uri": "https://localhost:8080/"
        },
        "id": "61d06a40",
        "outputId": "2bfba5ce-3b0e-4a42-d314-195632aa35ba"
      },
      "outputs": [
        {
          "output_type": "stream",
          "name": "stdout",
          "text": [
            "P(Total >= 90): 0.211\n"
          ]
        }
      ],
      "source": [
        "# YOUR CODE HERE\n",
        "x=(df['Total'] >= 90).mean()\n",
        "print(f'P(Total >= 90): {x:.3f}')"
      ]
    },
    {
      "cell_type": "markdown",
      "id": "5d12ae51",
      "metadata": {
        "id": "5d12ae51"
      },
      "source": [
        "#### Problem 16\n",
        "\n",
        "What's the probability of being absent more than twice?  \n",
        "\n",
        "Print the estimated value of P(Number_days_missed > 2).  As usual, use three significant digits when you print."
      ]
    },
    {
      "cell_type": "code",
      "execution_count": null,
      "id": "0260e279",
      "metadata": {
        "colab": {
          "base_uri": "https://localhost:8080/"
        },
        "id": "0260e279",
        "outputId": "4d194c00-e295-4e7b-b473-6bedcb595ea5"
      },
      "outputs": [
        {
          "output_type": "stream",
          "name": "stdout",
          "text": [
            "P(Number_days_missed > 2): 0.316\n"
          ]
        }
      ],
      "source": [
        "# YOUR CODE HERE\n",
        "x=(df['Number_days_missed'] > 2).mean()\n",
        "print(f'P(Number_days_missed > 2): {x:.3f}')"
      ]
    },
    {
      "cell_type": "markdown",
      "id": "e88673d0",
      "metadata": {
        "id": "e88673d0"
      },
      "source": [
        "#### Problem 17\n",
        "\n",
        "How do absences and missing homework assignments related to course score?  This is the main question we're interested in.\n",
        "\n",
        "What's the probability of passing the course and missing more than two days and passing the course?  \n",
        "\n",
        "This is the joint probability P(Total >= 70, Number_days_missed > 2).  Print your answer."
      ]
    },
    {
      "cell_type": "code",
      "execution_count": null,
      "id": "d072d8f2",
      "metadata": {
        "colab": {
          "base_uri": "https://localhost:8080/"
        },
        "id": "d072d8f2",
        "outputId": "63f08de1-8b84-42de-c030-109e04700dd2"
      },
      "outputs": [
        {
          "output_type": "stream",
          "name": "stdout",
          "text": [
            "P(Total >= 70, Number_days_missed > 2): 0.263\n"
          ]
        }
      ],
      "source": [
        "# YOUR CODE HERE\n",
        "x=((df['Total'] >= 70) &(df['Number_days_missed'] > 2)).mean()\n",
        "print(f'P(Total >= 70, Number_days_missed > 2): {x:.3f}')"
      ]
    },
    {
      "cell_type": "markdown",
      "id": "b8fdc09a",
      "metadata": {
        "id": "b8fdc09a"
      },
      "source": [
        "#### Problem 18\n",
        "\n",
        "A similar question is: what's the probability of passing the course **given** absences on more than two days.\n",
        "\n",
        "This is the conditional probability P(Total >= 70 | Number_days_missed > 2).  Print your answer."
      ]
    },
    {
      "cell_type": "code",
      "execution_count": null,
      "id": "9ad84379",
      "metadata": {
        "colab": {
          "base_uri": "https://localhost:8080/"
        },
        "id": "9ad84379",
        "outputId": "633116db-055a-4ca2-9009-9b2492dc32f9"
      },
      "outputs": [
        {
          "output_type": "stream",
          "name": "stdout",
          "text": [
            "P(Total >= 70 | Number_days_missed > 2): 0.833\n"
          ]
        }
      ],
      "source": [
        "# YOUR CODE HERE\n",
        "df_x = df[df['Number_days_missed'] > 2]\n",
        "x=(df_x['Total'] >= 70).mean().round(3)\n",
        "print(f'P(Total >= 70 | Number_days_missed > 2): {x:.3f}')"
      ]
    },
    {
      "cell_type": "markdown",
      "id": "db4a7525",
      "metadata": {
        "id": "db4a7525"
      },
      "source": [
        "#### Problem 19\n",
        "\n",
        "The probability of passing with more than two absences is pretty high, but lower than the marginal probability of passing the class.\n",
        "\n",
        "What's the probability of passing the class with no absences?\n",
        "\n",
        "Print P(Total >= 70 | Number_days_missed = 0)."
      ]
    },
    {
      "cell_type": "code",
      "execution_count": null,
      "id": "36986590",
      "metadata": {
        "colab": {
          "base_uri": "https://localhost:8080/"
        },
        "id": "36986590",
        "outputId": "a555eef5-751b-44d2-9c74-80a1d43cae14"
      },
      "outputs": [
        {
          "output_type": "stream",
          "name": "stdout",
          "text": [
            "P(Total >= 70 | Number_days_missed = 0): 1.000\n"
          ]
        }
      ],
      "source": [
        "# YOUR CODE HERE\n",
        "df_x = df[df['Number_days_missed'] == 0]\n",
        "x=(df_x['Total'] >= 70).mean()\n",
        "print(f'P(Total >= 70 | Number_days_missed = 0): {x:.3f}')"
      ]
    },
    {
      "cell_type": "markdown",
      "id": "1c7a52f0",
      "metadata": {
        "id": "1c7a52f0"
      },
      "source": [
        "#### Problem 20\n",
        "\n",
        "In this section, everyone who never missed class passed.\n",
        "\n",
        "What's the probability of getting an A with more than 2 absences?\n",
        "\n",
        "Print P(Total >= 90 | Number_days_missed > 2)."
      ]
    },
    {
      "cell_type": "code",
      "execution_count": null,
      "id": "e1441c5b",
      "metadata": {
        "colab": {
          "base_uri": "https://localhost:8080/"
        },
        "id": "e1441c5b",
        "outputId": "9ed74f01-0366-416e-f38d-bb54ce645693"
      },
      "outputs": [
        {
          "output_type": "stream",
          "name": "stdout",
          "text": [
            "P(Total >= 90 | Number_days_missed > 2): 0.000\n"
          ]
        }
      ],
      "source": [
        "# YOUR CODE HERE\n",
        "df_x = df[df['Number_days_missed'] > 2]\n",
        "x=(df_x['Total'] >= 90).mean()\n",
        "print(f'P(Total >= 90 | Number_days_missed > 2): {x:.3f}')"
      ]
    },
    {
      "cell_type": "markdown",
      "id": "00ebc117",
      "metadata": {
        "id": "00ebc117"
      },
      "source": [
        "#### Problem 21\n",
        "\n",
        "We learned that no one with than two absences passed the class.\n",
        "\n",
        "Let's look now at missed homework assignments.  What's the probability of passing with 2 or more missing homework assignments?\n",
        "\n",
        "Print P(Total >= 70 | Number_hw_missed > 2)."
      ]
    },
    {
      "cell_type": "code",
      "execution_count": null,
      "id": "29951792",
      "metadata": {
        "colab": {
          "base_uri": "https://localhost:8080/"
        },
        "id": "29951792",
        "outputId": "f5a5cdf3-5d31-4b4e-800a-a7304bc84967"
      },
      "outputs": [
        {
          "output_type": "stream",
          "name": "stdout",
          "text": [
            "P(Total >= 70 | Number_hw_missed > 2): 0.769\n"
          ]
        }
      ],
      "source": [
        "# YOUR CODE HERE\n",
        "df_x = df[df['Number_hw_missed'] > 2]\n",
        "x=(df_x['Total'] >= 70).mean()\n",
        "print(f'P(Total >= 70 | Number_hw_missed > 2): {x:.3f}')"
      ]
    },
    {
      "cell_type": "markdown",
      "id": "feebc93e",
      "metadata": {
        "id": "feebc93e"
      },
      "source": [
        "#### Problem 22\n",
        "\n",
        "We've looked at the probability of passing more than 2 missing homework assignments.\n",
        "\n",
        "What about the probability of missing 2 or more homework assignments given that a student passes the class?  Do you expect this probability value to be the same?\n",
        "\n",
        "Print P(Number_hw_missed > 2 | Total >= 70)."
      ]
    },
    {
      "cell_type": "code",
      "execution_count": null,
      "id": "46355787",
      "metadata": {
        "colab": {
          "base_uri": "https://localhost:8080/"
        },
        "id": "46355787",
        "outputId": "f43eb0fd-502b-4c4e-d418-afe36e4a025e"
      },
      "outputs": [
        {
          "output_type": "stream",
          "name": "stdout",
          "text": [
            "P(Number_hw_missed > 2 | Total >= 70): 0.286\n"
          ]
        }
      ],
      "source": [
        "# YOUR CODE HERE\n",
        "df_x = df[df['Total'] >= 70]\n",
        "x=(df_x['Number_hw_missed'] > 2).mean()\n",
        "print(f'P(Number_hw_missed > 2 | Total >= 70): {x:.3f}')"
      ]
    },
    {
      "cell_type": "markdown",
      "id": "602ce737",
      "metadata": {
        "id": "602ce737"
      },
      "source": [
        "Do you have a good feel for the difference between P(Total >= 70 | Number_hw_missed > 2) and P(Number_hw_missed > 2 | Total >= 70)?"
      ]
    },
    {
      "cell_type": "markdown",
      "id": "f23e6973",
      "metadata": {
        "id": "f23e6973"
      },
      "source": [
        "#### Problem 23\n",
        "\n",
        "Is seems that not doing a homework assignment is more of a problem than being absent once.  That's what I would expect.\n",
        "\n",
        "What's the probability of getting an A with 2 or more missing homework assignments?\n",
        "\n",
        "Print P(Total >= 90 | Number_hw_missed > 2)."
      ]
    },
    {
      "cell_type": "code",
      "execution_count": null,
      "id": "9c023a87",
      "metadata": {
        "colab": {
          "base_uri": "https://localhost:8080/"
        },
        "id": "9c023a87",
        "outputId": "311031c8-aaff-4bc1-9452-0a8997ccfbdb"
      },
      "outputs": [
        {
          "output_type": "stream",
          "name": "stdout",
          "text": [
            " P(Total >= 90 | Number_hw_missed > 2): 0.000\n"
          ]
        }
      ],
      "source": [
        "# YOUR CODE HERE\n",
        "df_x = df[df['Number_days_missed'] > 2]\n",
        "x=(df_x['Total'] >= 90).mean()\n",
        "print(f' P(Total >= 90 | Number_hw_missed > 2): {x:.3f}')"
      ]
    },
    {
      "cell_type": "markdown",
      "id": "4fe4e4f2",
      "metadata": {
        "id": "4fe4e4f2"
      },
      "source": [
        "The homework score is a big component of the final course score, so this is not surprising."
      ]
    },
    {
      "cell_type": "markdown",
      "id": "771723ee",
      "metadata": {
        "id": "771723ee"
      },
      "source": [
        "#### Problem 24\n",
        "\n",
        "Instead of computing probabilities, let's look at the distribution of grades for those with more than 2 absences, and for those with no more than 2 absences.\n",
        "\n",
        "First, create a density plot for the variable Total, but only use the rows of the data in which there are more than two absences.\n",
        "\n",
        "Use 40-110 as the x axis limits.  "
      ]
    },
    {
      "cell_type": "code",
      "execution_count": null,
      "id": "487a4e62",
      "metadata": {
        "colab": {
          "base_uri": "https://localhost:8080/",
          "height": 318
        },
        "id": "487a4e62",
        "outputId": "156f728b-6fe2-4926-ee0c-cd36f514899d"
      },
      "outputs": [
        {
          "output_type": "execute_result",
          "data": {
            "text/plain": [
              "Text(0, 0.5, 'density')"
            ]
          },
          "metadata": {},
          "execution_count": 67
        },
        {
          "output_type": "display_data",
          "data": {
            "text/plain": [
              "<Figure size 432x288 with 1 Axes>"
            ],
            "image/png": "[encoded data removed]"
          },
          "metadata": {}
        }
      ],
      "source": [
        "# YOUR CODE HERE\n",
        "#(df['Total']).plot.density()\n",
        "#df_x=df[df['Number_days_missed'] > 2]\n",
        "#sns.kdeplot(x='Number_days_missed', y='Total', data=df)\n",
        "#x = df['Total'][(df['Number_days_missed']>2)]\n",
        "df[(df['Number_hw_missed']>2)]['Total'].plot.density()\n",
        "plt.title('Total course score when more than 2 absences')\n",
        "plt.xlabel('total score')\n",
        "plt.xlim([40, 110])\n",
        "plt.ylabel('density');"
      ]
    },
    {
      "cell_type": "markdown",
      "id": "4358ed8c",
      "metadata": {
        "id": "4358ed8c"
      },
      "source": [
        "#### Problem 23\n",
        "\n",
        "Now create a density plot for the variable Total, but only use the rows of the data in which there are no more than two absences.\n",
        "\n",
        "Again, use 40-110 as the x axis limits. Using the same x axis range on the two plots will make them easier to compare."
      ]
    },
    {
      "cell_type": "code",
      "execution_count": null,
      "id": "e70a8f72",
      "metadata": {
        "id": "e70a8f72",
        "colab": {
          "base_uri": "https://localhost:8080/",
          "height": 318
        },
        "outputId": "19bcee60-0faf-46cb-b50c-a65e9163a370"
      },
      "outputs": [
        {
          "output_type": "execute_result",
          "data": {
            "text/plain": [
              "Text(0, 0.5, 'density')"
            ]
          },
          "metadata": {},
          "execution_count": 69
        },
        {
          "output_type": "display_data",
          "data": {
            "text/plain": [
              "<Figure size 432x288 with 1 Axes>"
            ],
            "image/png": "[encoded data removed]"
          },
          "metadata": {}
        }
      ],
      "source": [
        "# YOUR CODE HERE\n",
        "df[(df['Number_hw_missed']<=2)]['Total'].plot.density()\n",
        "plt.title('Total course score when no than 2 absences')\n",
        "plt.xlabel('total score')\n",
        "plt.xlim([40, 110])\n",
        "plt.ylabel('density');"
      ]
    },
    {
      "cell_type": "markdown",
      "id": "847cee14",
      "metadata": {
        "id": "847cee14"
      },
      "source": [
        "#### Problem 24\n",
        "\n",
        "To make comparison of the distributions easier, they can be plotted in the same plot.\n",
        "\n",
        "Create a new plot showing the two densities of the last two plots.  Refer to the graphics lecture for information on creating a legend.  The Pandas density() method accepts a 'label' parameter."
      ]
    },
    {
      "cell_type": "code",
      "execution_count": null,
      "id": "15f83520",
      "metadata": {
        "scrolled": false,
        "id": "15f83520",
        "colab": {
          "base_uri": "https://localhost:8080/",
          "height": 318
        },
        "outputId": "be10bda3-910a-4f90-eb7c-6f22c44f5f59"
      },
      "outputs": [
        {
          "output_type": "execute_result",
          "data": {
            "text/plain": [
              "(40.0, 110.0)"
            ]
          },
          "metadata": {},
          "execution_count": 74
        },
        {
          "output_type": "display_data",
          "data": {
            "text/plain": [
              "<Figure size 432x288 with 1 Axes>"
            ],
            "image/png": "[encoded data removed]"
          },
          "metadata": {}
        }
      ],
      "source": [
        "# YOUR CODE HERE\n",
        "df[(df['Number_hw_missed']>2)]['Total'].plot.density(label=' More than 2 absences')\n",
        "df[(df['Number_hw_missed']<=2)]['Total'].plot.density(label='No more than 2 absences')\n",
        "plt.title('Total course score when more than 2 absences')\n",
        "plt.xlabel('total score')\n",
        "plt.ylabel('density')\n",
        "plt.legend()\n",
        "plt.xlim(40,110);"
      ]
    },
    {
      "cell_type": "markdown",
      "id": "9f2508eb",
      "metadata": {
        "id": "9f2508eb"
      },
      "source": [
        "Having more than two absences has a big impact on the course grade.  However, note that part of the course grade is a participation component, which is affected by absences.  "
      ]
    },
    {
      "cell_type": "markdown",
      "id": "d5c9c970",
      "metadata": {
        "id": "d5c9c970"
      },
      "source": [
        "#### Problem 25\n",
        "\n",
        "What about the combination of missing class and missing homework assignments?  Is missing class *and* missing homework assignments particularly bad?\n",
        "\n",
        "Print P(Total >= 70 | (Num_hw_missed > 2 and Number_days_missed > 2))"
      ]
    },
    {
      "cell_type": "code",
      "execution_count": null,
      "id": "9e9a0c8a",
      "metadata": {
        "id": "9e9a0c8a",
        "colab": {
          "base_uri": "https://localhost:8080/"
        },
        "outputId": "957a536f-cb67-4a78-9ef1-479a94efe662"
      },
      "outputs": [
        {
          "output_type": "stream",
          "name": "stdout",
          "text": [
            " P(Total >= 90 | Projects >= 90): 0.714\n"
          ]
        }
      ],
      "source": [
        "# YOUR CODE HERE\n",
        "df_x = df[(df['Number_days_missed'] > 2) & (df['Number_hw_missed']>2)]\n",
        "x=(df_x['Total'] >= 70).mean()\n",
        "print(f' P(Total >= 90 | Projects >= 90): {x:.3f}')"
      ]
    },
    {
      "cell_type": "markdown",
      "id": "a642949c",
      "metadata": {
        "id": "a642949c"
      },
      "source": [
        "#### Problem 26\n",
        "\n",
        "Did people who got A's on their projects get an A in the class?\n",
        "\n",
        "What's the probability of getting an A in the class given an average project score of A?\n",
        "\n",
        "Print P(Total >= 90 | Projects >= 90)"
      ]
    },
    {
      "cell_type": "code",
      "execution_count": null,
      "id": "ae5dbf5c",
      "metadata": {
        "id": "ae5dbf5c",
        "colab": {
          "base_uri": "https://localhost:8080/"
        },
        "outputId": "3f407ded-7f27-48f7-db66-108cdbd6e147"
      },
      "outputs": [
        {
          "output_type": "stream",
          "name": "stdout",
          "text": [
            " P(Total >= 90 | Projects >= 90): 0.556\n"
          ]
        }
      ],
      "source": [
        "# YOUR CODE HERE\n",
        "df_x = df[df['Projects'] >= 90]\n",
        "x=(df_x['Total'] >= 90).mean()\n",
        "print(f' P(Total >= 90 | Projects >= 90): {x:.3f}')"
      ]
    },
    {
      "cell_type": "markdown",
      "id": "7c4b3927",
      "metadata": {
        "id": "7c4b3927"
      },
      "source": [
        "Remember that this number is high partly because the project grade is a big part of the total grade."
      ]
    }
  ],
  "metadata": {
    "kernelspec": {
      "display_name": "Python 3 (ipykernel)",
      "language": "python",
      "name": "python3"
    },
    "language_info": {
      "codemirror_mode": {
        "name": "ipython",
        "version": 3
      },
      "file_extension": ".py",
      "mimetype": "text/x-python",
      "name": "python",
      "nbconvert_exporter": "python",
      "pygments_lexer": "ipython3",
      "version": "3.8.8"
    },
    "colab": {
      "provenance": [],
      "include_colab_link": true
    }
  },
  "nbformat": 4,
  "nbformat_minor": 5
}