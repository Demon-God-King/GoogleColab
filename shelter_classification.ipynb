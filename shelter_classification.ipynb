{
  "cells": [
    {
      "cell_type": "markdown",
      "metadata": {
        "id": "view-in-github",
        "colab_type": "text"
      },
      "source": [
        "<a href=\"https://colab.research.google.com/github/Demon-God-King/GoogleColab/blob/main/shelter_classification.ipynb\" target=\"_parent\"><img src=\"https://colab.research.google.com/assets/colab-badge.svg\" alt=\"Open In Colab\"/></a>"
      ]
    },
    {
      "cell_type": "markdown",
      "metadata": {
        "id": "34c68c75"
      },
      "source": [
        "# Predicting dog adoption at the Sonoma animal shelter"
      ],
      "id": "34c68c75"
    },
    {
      "cell_type": "markdown",
      "metadata": {
        "id": "eed3be00"
      },
      "source": [
        "Which dogs at the Sonoma animal shelter tend to be adopted?  We can try to answer this question by creating a machine learning algorithm that will predict, from data available when a dot is taken in, whether the dog will be adopted.  Is it possible to accurately predict whether a dog will be adopted?  If so, are factors like age and size important? "
      ],
      "id": "eed3be00"
    },
    {
      "cell_type": "markdown",
      "metadata": {
        "id": "25dde26b"
      },
      "source": [
        "### Instructions:"
      ],
      "id": "25dde26b"
    },
    {
      "cell_type": "markdown",
      "metadata": {
        "id": "dd53be12"
      },
      "source": [
        "- Please read the entire notebook carefully.\n",
        "- Problems are shown in code cells below; each problem begins with #@.\n",
        "- Do not make changes outside the problem cells.\n",
        "- I provide output for some problem cells.  When I do so, you should try to replicate my output.\n",
        "- Run your code from top to bottom before submitting.\n",
        "- Do not modify the file name.\n",
        "\n",
        "The usual course honor policy applies.  Do not share code with others, do not look at others' code, and do not look for solutions to the problems on the web.  You are of course allowed to look on the web for how to use NumPy, Pandas, etc.\n",
        "\n",
        "I wanted to share my thought process in creating the notebook, so put my thoughts in italics.  My comments in a professional report would be written in a more formal style."
      ],
      "id": "dd53be12"
    },
    {
      "cell_type": "code",
      "execution_count": null,
      "metadata": {
        "id": "12590e5a"
      },
      "outputs": [],
      "source": [
        "import numpy as np\n",
        "import pandas as pd\n",
        "\n",
        "from sklearn.preprocessing import StandardScaler, PolynomialFeatures\n",
        "from sklearn.model_selection import cross_val_score, cross_val_predict\n",
        "from sklearn.model_selection import train_test_split, learning_curve\n",
        "from sklearn.neighbors import KNeighborsClassifier\n",
        "from sklearn.linear_model import LogisticRegression\n",
        "from sklearn.compose import ColumnTransformer\n",
        "from sklearn.metrics import confusion_matrix\n",
        "from sklearn.model_selection import cross_val_predict\n",
        "\n",
        "import matplotlib.pyplot as plt\n",
        "import seaborn as sns"
      ],
      "id": "12590e5a"
    },
    {
      "cell_type": "markdown",
      "metadata": {
        "id": "d8f18c0b"
      },
      "source": [
        "#### Plotting style parameters"
      ],
      "id": "d8f18c0b"
    },
    {
      "cell_type": "code",
      "execution_count": null,
      "metadata": {
        "id": "cb4c4b34"
      },
      "outputs": [],
      "source": [
        "# switch to seaborn default stylistic parameters\n",
        "sns.set()\n",
        "sns.set_context('notebook') \n",
        "sns.set_style('whitegrid')"
      ],
      "id": "cb4c4b34"
    },
    {
      "cell_type": "code",
      "execution_count": null,
      "metadata": {
        "colab": {
          "base_uri": "https://localhost:8080/",
          "height": 53
        },
        "id": "75fa1b9b",
        "outputId": "33194a9d-0cf6-4aa8-df5c-3341be7413e3",
        "scrolled": true
      },
      "outputs": [
        {
          "output_type": "execute_result",
          "data": {
            "text/plain": [
              "'\\nHTML(\\'\\'\\'<script>\\ncode_show=true; \\nfunction code_toggle() {\\n if (code_show){\\n $(\\'div.input\\').hide();\\n } else {\\n $(\\'div.input\\').show();\\n }\\n code_show = !code_show\\n} \\n$( document ).ready(code_toggle);\\n</script>\\n<form action=\"javascript:code_toggle()\"><input type=\"submit\" value=\"Click here to display/hide the code.\"></form>\\'\\'\\')\\n'"
            ],
            "application/vnd.google.colaboratory.intrinsic+json": {
              "type": "string"
            }
          },
          "metadata": {},
          "execution_count": 4
        }
      ],
      "source": [
        "# code in this cell from: \n",
        "# https://stackoverflow.com/questions/27934885/how-to-hide-code-from-cells-in-ipython-notebook-visualized-with-nbviewer\n",
        "from IPython.display import HTML\n",
        "\n",
        "\"\"\"\n",
        "HTML('''<script>\n",
        "code_show=true; \n",
        "function code_toggle() {\n",
        " if (code_show){\n",
        " $('div.input').hide();\n",
        " } else {\n",
        " $('div.input').show();\n",
        " }\n",
        " code_show = !code_show\n",
        "} \n",
        "$( document ).ready(code_toggle);\n",
        "</script>\n",
        "<form action=\"javascript:code_toggle()\"><input type=\"submit\" value=\"Click here to display/hide the code.\"></form>''')\n",
        "\"\"\""
      ],
      "id": "75fa1b9b"
    },
    {
      "cell_type": "markdown",
      "metadata": {
        "id": "41126a4c"
      },
      "source": [
        "#### Function definitions"
      ],
      "id": "41126a4c"
    },
    {
      "cell_type": "code",
      "execution_count": null,
      "metadata": {
        "id": "605f517c"
      },
      "outputs": [],
      "source": [
        "def plot_learning_curve(train_sizes, train_scores, test_scores):\n",
        "    train_scores_mean = np.mean(train_scores, axis=1)\n",
        "    test_scores_mean  = np.mean(test_scores, axis=1)\n",
        "    plt.plot(train_sizes, train_scores_mean, label='train')\n",
        "    plt.plot(train_sizes, test_scores_mean, label='test')\n",
        "    plt.xlabel('training set size')\n",
        "    plt.ylabel('accuracy')\n",
        "    plt.title('Learning curve')\n",
        "    plt.legend();"
      ],
      "id": "605f517c"
    },
    {
      "cell_type": "code",
      "execution_count": null,
      "metadata": {
        "id": "aa206cd1"
      },
      "outputs": [],
      "source": [
        "def print_conf_mtx(y_true, y_pred, classes=None):\n",
        "    \"\"\" Print a confusion matrix (two classes only). \"\"\"\n",
        "    \n",
        "    if not classes:\n",
        "        classes = ['neg', 'pos']\n",
        "        \n",
        "    # formatting\n",
        "    max_class_len = max([len(s) for s in classes])\n",
        "    m = max(max_class_len, len('predicted')//2 + 1)\n",
        "    n = max(len('actual')+1, max_class_len)\n",
        "    left       = '{:<10s}'.replace('10',str(n))\n",
        "    right      = '{:>10s}'.replace('10',str(m))\n",
        "    big_center = '{:^20s}'.replace('20',str(m*2))\n",
        "    \n",
        "    cm = confusion_matrix(y_true, y_pred)\n",
        "    print((left+big_center).format('', 'predicted'))\n",
        "    print((left+right+right).format('actual', classes[0], classes[1]))\n",
        "    print((left+right+right).format(classes[0], str(cm[0,0]), str(cm[0,1])))\n",
        "    print((left+right+right).format(classes[1], str(cm[1,0]), str(cm[1,1])))"
      ],
      "id": "aa206cd1"
    },
    {
      "cell_type": "markdown",
      "metadata": {
        "id": "a15f6910"
      },
      "source": [
        "### Read the data"
      ],
      "id": "a15f6910"
    },
    {
      "cell_type": "code",
      "execution_count": null,
      "metadata": {
        "id": "913429ff"
      },
      "outputs": [],
      "source": [
        "df = pd.read_csv(\"https://raw.githubusercontent.com/grbruns/cst383/master/sonoma-shelter-12-2022.csv\")"
      ],
      "id": "913429ff"
    },
    {
      "cell_type": "code",
      "execution_count": null,
      "metadata": {
        "id": "05c9f108"
      },
      "outputs": [],
      "source": [
        "df = df[df['Type'] == 'DOG']\n",
        "df.drop('Type', axis=1, inplace=True)"
      ],
      "id": "05c9f108"
    },
    {
      "cell_type": "code",
      "execution_count": null,
      "metadata": {
        "id": "7076bcae"
      },
      "outputs": [],
      "source": [
        "df['Intake Date'] = pd.to_datetime(df['Intake Date'])\n",
        "df['Date Of Birth'] = pd.to_datetime(df['Date Of Birth'])\n",
        "\n",
        "df.set_index('Intake Date', inplace=True)\n",
        "df.sort_index(inplace=True)"
      ],
      "id": "7076bcae"
    },
    {
      "cell_type": "markdown",
      "metadata": {
        "id": "afc1501c"
      },
      "source": [
        "## Preliminary exploration"
      ],
      "id": "afc1501c"
    },
    {
      "cell_type": "markdown",
      "metadata": {
        "id": "0d9d71d3"
      },
      "source": [
        "_As a first step, I want to get an overview of the data and an idea of the kind of preprocessing I might need to do._"
      ],
      "id": "0d9d71d3"
    },
    {
      "cell_type": "code",
      "execution_count": null,
      "metadata": {
        "colab": {
          "base_uri": "https://localhost:8080/"
        },
        "id": "d473f948",
        "outputId": "a8835b73-9d45-4db3-cbb6-623c9642bbc7"
      },
      "outputs": [
        {
          "output_type": "stream",
          "name": "stdout",
          "text": [
            "<class 'pandas.core.frame.DataFrame'>\n",
            "DatetimeIndex: 12454 entries, 2013-08-22 to 2021-11-29\n",
            "Data columns (total 22 columns):\n",
            " #   Column                Non-Null Count  Dtype         \n",
            "---  ------                --------------  -----         \n",
            " 0   Name                  11237 non-null  object        \n",
            " 1   Breed                 12454 non-null  object        \n",
            " 2   Color                 12454 non-null  object        \n",
            " 3   Sex                   12454 non-null  object        \n",
            " 4   Size                  12423 non-null  object        \n",
            " 5   Date Of Birth         10377 non-null  datetime64[ns]\n",
            " 6   Impound Number        12454 non-null  object        \n",
            " 7   Kennel Number         12451 non-null  object        \n",
            " 8   Animal ID             12454 non-null  object        \n",
            " 9   Outcome Date          12379 non-null  object        \n",
            " 10  Days in Shelter       12454 non-null  int64         \n",
            " 11  Intake Type           12454 non-null  object        \n",
            " 12  Intake Subtype        12454 non-null  object        \n",
            " 13  Outcome Type          12379 non-null  object        \n",
            " 14  Outcome Subtype       12272 non-null  object        \n",
            " 15  Intake Condition      12454 non-null  object        \n",
            " 16  Outcome Condition     12278 non-null  object        \n",
            " 17  Intake Jurisdiction   12454 non-null  object        \n",
            " 18  Outcome Jurisdiction  11288 non-null  object        \n",
            " 19  Outcome Zip Code      11230 non-null  float64       \n",
            " 20  Location              11230 non-null  object        \n",
            " 21  Count                 12454 non-null  int64         \n",
            "dtypes: datetime64[ns](1), float64(1), int64(2), object(18)\n",
            "memory usage: 2.2+ MB\n"
          ]
        }
      ],
      "source": [
        "df.info()"
      ],
      "id": "d473f948"
    },
    {
      "cell_type": "markdown",
      "metadata": {
        "id": "68ecfa2e"
      },
      "source": [
        "_There is not a lot of missing data, but the date of birth is missing in more than 15% of the rows.  This makes sense, since some animals are probably strays with no identifying information._"
      ],
      "id": "68ecfa2e"
    },
    {
      "cell_type": "markdown",
      "metadata": {
        "id": "cf3f7809"
      },
      "source": [
        "_Looking at the number of unique values for each variable can help in understanding its type._"
      ],
      "id": "cf3f7809"
    },
    {
      "cell_type": "code",
      "execution_count": null,
      "metadata": {
        "colab": {
          "base_uri": "https://localhost:8080/"
        },
        "id": "2401d5be",
        "outputId": "a41b810a-a3bf-4e1a-87c4-d18b0fbbd39a"
      },
      "outputs": [
        {
          "output_type": "execute_result",
          "data": {
            "text/plain": [
              "Name                     4259\n",
              "Breed                     803\n",
              "Color                     197\n",
              "Sex                         5\n",
              "Size                        6\n",
              "Date Of Birth            4301\n",
              "Impound Number          12454\n",
              "Kennel Number             146\n",
              "Animal ID               10613\n",
              "Outcome Date             2250\n",
              "Days in Shelter           240\n",
              "Intake Type                 7\n",
              "Intake Subtype             28\n",
              "Outcome Type                9\n",
              "Outcome Subtype           192\n",
              "Intake Condition            5\n",
              "Outcome Condition           6\n",
              "Intake Jurisdiction        13\n",
              "Outcome Jurisdiction       12\n",
              "Outcome Zip Code          568\n",
              "Location                  568\n",
              "Count                       2\n",
              "dtype: int64"
            ]
          },
          "metadata": {},
          "execution_count": 11
        }
      ],
      "source": [
        "df.nunique()"
      ],
      "id": "2401d5be"
    },
    {
      "cell_type": "markdown",
      "metadata": {
        "id": "24b82a18"
      },
      "source": [
        "_There are many breeds, colors, and quite a few intake subtypes._"
      ],
      "id": "24b82a18"
    },
    {
      "cell_type": "markdown",
      "metadata": {
        "id": "fb504a2b"
      },
      "source": [
        "_Which dog breeds are common at the shelter?_"
      ],
      "id": "fb504a2b"
    },
    {
      "cell_type": "code",
      "execution_count": null,
      "metadata": {
        "colab": {
          "base_uri": "https://localhost:8080/",
          "height": 301
        },
        "id": "ec0f159a",
        "outputId": "d13ac664-4fde-49fd-c6ad-04673ec53cf3",
        "scrolled": false
      },
      "outputs": [
        {
          "output_type": "display_data",
          "data": {
            "text/plain": [
              "<Figure size 432x288 with 1 Axes>"
            ],
            "image/png": "[encoded data removed]"
          },
          "metadata": {}
        }
      ],
      "source": [
        "df['Breed'].value_counts(normalize=True).cumsum()[:15].plot.barh().set_title('Top 15 breeds, cumulative fraction')\n",
        "plt.xlabel('Fraction of all intake');"
      ],
      "id": "ec0f159a"
    },
    {
      "cell_type": "markdown",
      "metadata": {
        "id": "cd92a9ec"
      },
      "source": [
        "_The cumulative plot let's me immediately see that the top 15 breeds cover almost 60% of the dogs.  The breed variable is complicated by the mixes.  If you lump pit bull and pit bull mix together, they account for about 20% of the dogs at the shelter._"
      ],
      "id": "cd92a9ec"
    },
    {
      "cell_type": "markdown",
      "metadata": {
        "id": "0af58a38"
      },
      "source": [
        "_What is the distribution of intake type and outcome type?_"
      ],
      "id": "0af58a38"
    },
    {
      "cell_type": "code",
      "execution_count": null,
      "metadata": {
        "colab": {
          "base_uri": "https://localhost:8080/",
          "height": 388
        },
        "id": "fa00e3d9",
        "outputId": "174820ce-3e31-4131-fbfb-90bebfae683f"
      },
      "outputs": [
        {
          "output_type": "display_data",
          "data": {
            "text/plain": [
              "<Figure size 864x288 with 2 Axes>"
            ],
            "image/png": "[encoded data removed]"
          },
          "metadata": {}
        }
      ],
      "source": [
        "fig,ax = plt.subplots(1, 2, figsize=(12, 4))\n",
        "df['Intake Type'].value_counts(normalize=True).plot.bar(ax=ax[0]).set_title('Fraction of dogs by intake type')\n",
        "df['Outcome Type'].value_counts(normalize=True).plot.bar(ax=ax[1]).set_title('Fraction of dogs by outcome type');"
      ],
      "id": "fa00e3d9"
    },
    {
      "cell_type": "markdown",
      "metadata": {
        "id": "a6e5a98d"
      },
      "source": [
        "_By far, most dogs enter the shelter as strays.  Interestingly, about half the dogs leave by being returned to owner.  Less than a quarter of the dogs that enter are adopted.  Sadly, about 1 in 10 dogs that enter the shelter are euthanized._"
      ],
      "id": "a6e5a98d"
    },
    {
      "cell_type": "markdown",
      "metadata": {
        "id": "d28ca146"
      },
      "source": [
        "_Many dogs are returned to their owner.  For the purpose of understanding adoption, I will not look at dogs that were returned to their owner.  Instead, I will try to predict which will be adopted, as opposed to transferred or euthanized.  The other outcome types are very rare._"
      ],
      "id": "d28ca146"
    },
    {
      "cell_type": "markdown",
      "metadata": {
        "id": "95a153e5"
      },
      "source": [
        "_It's surprising that a large proportion of the dogs taken to the shelter are pit bulls or pit bull mixes._"
      ],
      "id": "95a153e5"
    },
    {
      "cell_type": "markdown",
      "metadata": {
        "id": "f6d19f8a"
      },
      "source": [
        "_What is the distribution of dog sizes?_"
      ],
      "id": "f6d19f8a"
    },
    {
      "cell_type": "code",
      "execution_count": null,
      "metadata": {
        "colab": {
          "base_uri": "https://localhost:8080/",
          "height": 311
        },
        "id": "1b57a711",
        "outputId": "d5fddd6c-0fec-4dad-95f7-8057b47c4670",
        "scrolled": true
      },
      "outputs": [
        {
          "output_type": "display_data",
          "data": {
            "text/plain": [
              "<Figure size 432x288 with 1 Axes>"
            ],
            "image/png": "[encoded data removed]"
          },
          "metadata": {}
        }
      ],
      "source": [
        "df['Size'].value_counts(normalize=True).plot.bar()\n",
        "plt.title('Distribution of dog sizes')\n",
        "plt.ylabel('Fraction of dogs when brought to shelter');"
      ],
      "id": "1b57a711"
    },
    {
      "cell_type": "markdown",
      "metadata": {
        "id": "edbc0e57"
      },
      "source": [
        "_'PUPPY' is a dog size?  That seems very strange.  It's true that puppies tend to be small, but some puppies are much larger than others.  Maybe 'PUPPY' is used because a puppy's size changes quickly._"
      ],
      "id": "edbc0e57"
    },
    {
      "cell_type": "markdown",
      "metadata": {
        "id": "32c51627"
      },
      "source": [
        "## Data preprocessing"
      ],
      "id": "32c51627"
    },
    {
      "cell_type": "markdown",
      "metadata": {
        "id": "2b6ee820"
      },
      "source": [
        "Summary of the preprocessing:\n",
        "- Drop variables related to outcome, except for Outcome Type.\n",
        "- Drop variables that are certain to not be used.\n",
        "- Drop data related to outcome types besides adoption, transfer, and euthanization.\n",
        "- Derive new columns 'Age' and 'Unknown DOB'.\n",
        "- Drop any remaining rows with NA values.\n",
        "\n",
        "The details of these preprocessing steps were covered in a previous assignment."
      ],
      "id": "2b6ee820"
    },
    {
      "cell_type": "code",
      "execution_count": null,
      "metadata": {
        "colab": {
          "base_uri": "https://localhost:8080/"
        },
        "id": "6e523318",
        "outputId": "240fbf72-454e-414c-b71a-57dc72f5d2e6"
      },
      "outputs": [
        {
          "output_type": "stream",
          "name": "stderr",
          "text": [
            "/usr/local/lib/python3.7/dist-packages/pandas/core/generic.py:6392: SettingWithCopyWarning: \n",
            "A value is trying to be set on a copy of a slice from a DataFrame\n",
            "\n",
            "See the caveats in the documentation: https://pandas.pydata.org/pandas-docs/stable/user_guide/indexing.html#returning-a-view-versus-a-copy\n",
            "  return self._update_inplace(result)\n",
            "/usr/local/lib/python3.7/dist-packages/pandas/util/_decorators.py:311: SettingWithCopyWarning: \n",
            "A value is trying to be set on a copy of a slice from a DataFrame\n",
            "\n",
            "See the caveats in the documentation: https://pandas.pydata.org/pandas-docs/stable/user_guide/indexing.html#returning-a-view-versus-a-copy\n",
            "  return func(*args, **kwargs)\n"
          ]
        }
      ],
      "source": [
        "df.drop(['Days in Shelter', 'Outcome Date', 'Outcome Subtype', 'Outcome Condition', 'Outcome Jurisdiction', 'Outcome Zip Code', 'Location'], \n",
        "        axis=1, inplace=True)\n",
        "df.drop(['Name', 'Impound Number', 'Kennel Number', 'Animal ID', 'Intake Jurisdiction', 'Count'], \n",
        "        axis=1, inplace=True)\n",
        "df.drop(['Color'], axis=1, inplace=True)\n",
        "df = df[df['Outcome Type'].isin(['ADOPTION', 'TRANSFER', 'EUTHANIZE'])]\n",
        "df = df[df['Intake Type'] != \"OS APPT\"]\n",
        "\n",
        "# The new Age variable is in units of years\n",
        "df['Age'] = (df.index - df['Date Of Birth'])/np.timedelta64(1, 'Y')\n",
        "df['Unknown DOB'] = (df['Date Of Birth'].isna()).astype(int)\n",
        "df.drop('Date Of Birth', axis=1, inplace=True)\n",
        "df = df[df['Age'] >= 0.0 ]\n",
        "df['Age'].fillna(df['Age'].median(), inplace=True)\n",
        "df.dropna(inplace=True)"
      ],
      "id": "6e523318"
    },
    {
      "cell_type": "markdown",
      "metadata": {
        "id": "92668a26"
      },
      "source": [
        "_Now that we have an age variable, we can do a sanity check that puppies are young._"
      ],
      "id": "92668a26"
    },
    {
      "cell_type": "code",
      "execution_count": null,
      "metadata": {
        "colab": {
          "base_uri": "https://localhost:8080/",
          "height": 317
        },
        "id": "2ac5436f",
        "scrolled": true,
        "outputId": "db9258d4-0992-4391-a8cb-fc5ff0e4c697"
      },
      "outputs": [
        {
          "output_type": "display_data",
          "data": {
            "text/plain": [
              "<Figure size 432x288 with 1 Axes>"
            ],
            "image/png": "[encoded data removed]"
          },
          "metadata": {}
        }
      ],
      "source": [
        "#@ 1 Create a plot showing the average age in years for puppies and non-puppies.\n",
        "# Hint: we want to group by whether the value of variable size is 'PUPPY'.\n",
        "\n",
        "# YOUR CODE HERE\n",
        "# df.groupby('Age').mean().plot.bar()\n",
        "# plt.xticks(np.arange(2), ['Puppies', 'Adults']) \n",
        "# locs, labels = plt.xticks()  \n",
        "fig, ax = plt.subplots()\n",
        "df.groupby(df['Size'] == 'PUPPY')['Age'].mean().sort_index(ascending=False).plot.bar(rot=90)\n",
        "labels = ['Puppies', 'Adults']\n",
        "plt.title('Average age in years for puppies and non-puppies')\n",
        "plt.ylabel('Age (years)')\n",
        "plt.xlabel('')\n",
        "ax.set_xticklabels(labels);"
      ],
      "id": "2ac5436f"
    },
    {
      "cell_type": "markdown",
      "metadata": {
        "id": "73b345bc"
      },
      "source": [
        "_The average age of puppies is about 3 months, as expected._"
      ],
      "id": "73b345bc"
    },
    {
      "cell_type": "markdown",
      "metadata": {
        "id": "7e98b9b2"
      },
      "source": [
        "_It's a good idea to get a data summary after preprocessing._"
      ],
      "id": "7e98b9b2"
    },
    {
      "cell_type": "code",
      "execution_count": null,
      "metadata": {
        "colab": {
          "base_uri": "https://localhost:8080/"
        },
        "id": "e63786cc",
        "outputId": "23b2ed48-b50c-4e42-b21f-521c37b96bb8"
      },
      "outputs": [
        {
          "output_type": "stream",
          "name": "stdout",
          "text": [
            "<class 'pandas.core.frame.DataFrame'>\n",
            "DatetimeIndex: 5261 entries, 2013-08-22 to 2021-11-10\n",
            "Data columns (total 9 columns):\n",
            " #   Column            Non-Null Count  Dtype  \n",
            "---  ------            --------------  -----  \n",
            " 0   Breed             5261 non-null   object \n",
            " 1   Sex               5261 non-null   object \n",
            " 2   Size              5261 non-null   object \n",
            " 3   Intake Type       5261 non-null   object \n",
            " 4   Intake Subtype    5261 non-null   object \n",
            " 5   Outcome Type      5261 non-null   object \n",
            " 6   Intake Condition  5261 non-null   object \n",
            " 7   Age               5261 non-null   float64\n",
            " 8   Unknown DOB       5261 non-null   int64  \n",
            "dtypes: float64(1), int64(1), object(7)\n",
            "memory usage: 411.0+ KB\n"
          ]
        }
      ],
      "source": [
        "df.info()"
      ],
      "id": "e63786cc"
    },
    {
      "cell_type": "markdown",
      "metadata": {
        "id": "db3d5537"
      },
      "source": [
        "#### Additional preprocessing for machine learning"
      ],
      "id": "db3d5537"
    },
    {
      "cell_type": "markdown",
      "metadata": {
        "id": "9614b925"
      },
      "source": [
        "_All the variables except for age are categorical, and we need to encode categorical variables according to their type._\n",
        "\n",
        "_The intake subtype and breed variables are a problem because they have many possible values.  Using dummy variables will cause many new variables to be created._\n",
        "\n",
        "_Many of the intake subtype values rarely appear, so we will keep the top five values only, and replace all other values with 'OTHER'._"
      ],
      "id": "9614b925"
    },
    {
      "cell_type": "code",
      "execution_count": null,
      "metadata": {
        "id": "24289f7b"
      },
      "outputs": [],
      "source": [
        "top_subtypes = df['Intake Subtype'].value_counts().index[:5]\n",
        "df.loc[~df['Intake Subtype'].isin(top_subtypes), 'Intake Subtype'] = 'OTHER'"
      ],
      "id": "24289f7b"
    },
    {
      "cell_type": "markdown",
      "metadata": {
        "id": "7ec952e3"
      },
      "source": [
        "_There are many breeds.  Also, some overlap.  We will first combine categories, then retain only the most popular breeds._"
      ],
      "id": "7ec952e3"
    },
    {
      "cell_type": "code",
      "execution_count": null,
      "metadata": {
        "id": "cee067ed"
      },
      "outputs": [],
      "source": [
        "replace_dict = {\n",
        "    'PIT BULL/MIX': 'PIT BULL',\n",
        "    'CHIHUAHUA SH/MIX': 'CHIHUAHUA SH',\n",
        "    'GERM SHEPHERD/MIX': 'GERM SHEPHERD',\n",
        "    'LABRADOR RETR/MIX': 'LABRADOR RETR'\n",
        "}\n",
        "\n",
        "df['Breed'].replace(replace_dict, inplace=True)\n",
        "top_breeds = df['Breed'].value_counts().index[:4]\n",
        "df.loc[~df['Breed'].isin(top_breeds), 'Breed'] = 'OTHER'"
      ],
      "id": "cee067ed"
    },
    {
      "cell_type": "markdown",
      "metadata": {
        "id": "b82ebc33"
      },
      "source": [
        "_Create the target variable, plus another variable for euthanization.  I may want to look into euthanization._"
      ],
      "id": "b82ebc33"
    },
    {
      "cell_type": "code",
      "execution_count": null,
      "metadata": {
        "id": "4185f5f0"
      },
      "outputs": [],
      "source": [
        "df['Adopted'] = (df['Outcome Type'] == 'ADOPTION').astype(int)\n",
        "df['Euthanized'] = (df['Outcome Type'] == 'EUTHANIZATION').astype(int)\n",
        "df.drop('Outcome Type', axis=1, inplace=True)"
      ],
      "id": "4185f5f0"
    },
    {
      "cell_type": "markdown",
      "metadata": {
        "id": "753fdce8"
      },
      "source": [
        "_Size is an ordinal variable, so ordinal encoding makes sense.  However, we've seen that PUPPY is a possible value of the size variable._\n",
        "\n",
        "_The approach I use is to first create a new 'Puppy' variable, and then to use 'SMALL' as the size of puppies.  This approach may not be perfect, but I can try alternative later if it seems worthwhile._"
      ],
      "id": "753fdce8"
    },
    {
      "cell_type": "code",
      "execution_count": null,
      "metadata": {
        "id": "3283185f"
      },
      "outputs": [],
      "source": [
        "df['Puppy'] = (df['Size'] == 'PUPPY').astype(int)\n",
        "\n",
        "replace_dict = {\n",
        "    'TOY': 0,\n",
        "    'PUPPY': 0,\n",
        "    'SMALL': 1,\n",
        "    'MED': 2,\n",
        "    'LARGE': 3,\n",
        "    'X-LRG': 4\n",
        "}\n",
        "\n",
        "df['Size'].replace(replace_dict, inplace=True)"
      ],
      "id": "3283185f"
    },
    {
      "cell_type": "markdown",
      "metadata": {
        "id": "6ebbb113"
      },
      "source": [
        "_Encode the categorical variables._"
      ],
      "id": "6ebbb113"
    },
    {
      "cell_type": "code",
      "execution_count": null,
      "metadata": {
        "id": "100611f4"
      },
      "outputs": [],
      "source": [
        "df = pd.get_dummies(df, drop_first=True)"
      ],
      "id": "100611f4"
    },
    {
      "cell_type": "markdown",
      "metadata": {
        "id": "e42c4a64"
      },
      "source": [
        "_Again, it is useful to summarize the data after a lot of processing.  We expect all variables to be numeric now._"
      ],
      "id": "e42c4a64"
    },
    {
      "cell_type": "code",
      "execution_count": null,
      "metadata": {
        "colab": {
          "base_uri": "https://localhost:8080/"
        },
        "id": "029059b1",
        "outputId": "eac350d4-b2a4-4799-ac92-cca38349e0fe"
      },
      "outputs": [
        {
          "output_type": "stream",
          "name": "stdout",
          "text": [
            "<class 'pandas.core.frame.DataFrame'>\n",
            "DatetimeIndex: 5261 entries, 2013-08-22 to 2021-11-10\n",
            "Data columns (total 28 columns):\n",
            " #   Column                                 Non-Null Count  Dtype  \n",
            "---  ------                                 --------------  -----  \n",
            " 0   Size                                   5261 non-null   int64  \n",
            " 1   Age                                    5261 non-null   float64\n",
            " 2   Unknown DOB                            5261 non-null   int64  \n",
            " 3   Adopted                                5261 non-null   int64  \n",
            " 4   Euthanized                             5261 non-null   int64  \n",
            " 5   Puppy                                  5261 non-null   int64  \n",
            " 6   Breed_GERM SHEPHERD                    5261 non-null   uint8  \n",
            " 7   Breed_LABRADOR RETR                    5261 non-null   uint8  \n",
            " 8   Breed_OTHER                            5261 non-null   uint8  \n",
            " 9   Breed_PIT BULL                         5261 non-null   uint8  \n",
            " 10  Sex_Male                               5261 non-null   uint8  \n",
            " 11  Sex_Neutered                           5261 non-null   uint8  \n",
            " 12  Sex_Spayed                             5261 non-null   uint8  \n",
            " 13  Sex_Unknown                            5261 non-null   uint8  \n",
            " 14  Intake Type_CONFISCATE                 5261 non-null   uint8  \n",
            " 15  Intake Type_OWNER SURRENDER            5261 non-null   uint8  \n",
            " 16  Intake Type_QUARANTINE                 5261 non-null   uint8  \n",
            " 17  Intake Type_STRAY                      5261 non-null   uint8  \n",
            " 18  Intake Type_TRANSFER                   5261 non-null   uint8  \n",
            " 19  Intake Subtype_FLD_ARREST              5261 non-null   uint8  \n",
            " 20  Intake Subtype_OTHER                   5261 non-null   uint8  \n",
            " 21  Intake Subtype_OVER THE COUNTER        5261 non-null   uint8  \n",
            " 22  Intake Subtype_PRIV_SHELT              5261 non-null   uint8  \n",
            " 23  Intake Subtype_VET_HOSP                5261 non-null   uint8  \n",
            " 24  Intake Condition_TREATABLE/MANAGEABLE  5261 non-null   uint8  \n",
            " 25  Intake Condition_TREATABLE/REHAB       5261 non-null   uint8  \n",
            " 26  Intake Condition_UNKNOWN               5261 non-null   uint8  \n",
            " 27  Intake Condition_UNTREATABLE           5261 non-null   uint8  \n",
            "dtypes: float64(1), int64(5), uint8(22)\n",
            "memory usage: 400.7 KB\n"
          ]
        }
      ],
      "source": [
        "df.info()"
      ],
      "id": "029059b1"
    },
    {
      "cell_type": "markdown",
      "metadata": {
        "id": "3d30ac14"
      },
      "source": [
        "#### Convert Pandas data to NumPy"
      ],
      "id": "3d30ac14"
    },
    {
      "cell_type": "code",
      "execution_count": null,
      "metadata": {
        "id": "547476c5"
      },
      "outputs": [],
      "source": [
        "target = 'Adopted'\n",
        "predictors = df.columns[~df.columns.isin(['Adopted', 'Euthanized'])]"
      ],
      "id": "547476c5"
    },
    {
      "cell_type": "code",
      "execution_count": null,
      "metadata": {
        "id": "66a008ca"
      },
      "outputs": [],
      "source": [
        "X = df[predictors].values\n",
        "y = df[target].values"
      ],
      "id": "66a008ca"
    },
    {
      "cell_type": "markdown",
      "metadata": {
        "id": "66e21bd6"
      },
      "source": [
        "#### Train/test split"
      ],
      "id": "66e21bd6"
    },
    {
      "cell_type": "code",
      "execution_count": null,
      "metadata": {
        "id": "e1690af3"
      },
      "outputs": [],
      "source": [
        "X_train, X_test, y_train, y_test = train_test_split(X, y, test_size=0.30, random_state=42)"
      ],
      "id": "e1690af3"
    },
    {
      "cell_type": "code",
      "execution_count": null,
      "metadata": {
        "colab": {
          "base_uri": "https://localhost:8080/"
        },
        "id": "c1703430",
        "outputId": "7d2b0143-4e22-4497-d338-6b6d7c76af75"
      },
      "outputs": [
        {
          "output_type": "stream",
          "name": "stdout",
          "text": [
            "The training set has 3682 rows, with 26 predictor variables.\n"
          ]
        }
      ],
      "source": [
        "print('The training set has {} rows, with {} predictor variables.'.format(X_train.shape[0], X_train.shape[1]))"
      ],
      "id": "c1703430"
    },
    {
      "cell_type": "markdown",
      "metadata": {
        "id": "0e3181cb"
      },
      "source": [
        "#### Scale the data\n",
        " \n",
        "_I would like to scale only the quantitative variables, not the dummy variables.  I will use a method that is convenient, but hasn't been explained in class yet._\n",
        "\n",
        "_The ColumnTransormer class of Scikit-Learn allows for columns of a 2D array to be treated separately.  In this case I want to scale only the quantitative variables, which are columns 0 and 1._"
      ],
      "id": "0e3181cb"
    },
    {
      "cell_type": "code",
      "execution_count": null,
      "metadata": {
        "id": "15082d09"
      },
      "outputs": [],
      "source": [
        "quant_features = [0,1]\n",
        "xform = ColumnTransformer(\n",
        "    transformers=[\n",
        "        ('scaler', StandardScaler(), quant_features)\n",
        "    ],\n",
        "    remainder='passthrough'  # do nothing with other columns\n",
        ")"
      ],
      "id": "15082d09"
    },
    {
      "cell_type": "markdown",
      "metadata": {
        "id": "931d43bd"
      },
      "source": [
        "_The ColumnTransformer object is called xform.  Now I can use it to perform the scaling._"
      ],
      "id": "931d43bd"
    },
    {
      "cell_type": "code",
      "execution_count": null,
      "metadata": {
        "id": "84a3ddec"
      },
      "outputs": [],
      "source": [
        "X_train = xform.fit_transform(X_train)\n",
        "X_test  = xform.transform(X_test)"
      ],
      "id": "84a3ddec"
    },
    {
      "cell_type": "markdown",
      "metadata": {
        "id": "a6703c43"
      },
      "source": [
        "_As a sanity check, I'll ensure that the shape of the training data hasn't changed._"
      ],
      "id": "a6703c43"
    },
    {
      "cell_type": "code",
      "execution_count": null,
      "metadata": {
        "colab": {
          "base_uri": "https://localhost:8080/"
        },
        "id": "a709fc2e",
        "outputId": "6af2af1d-b3aa-47d5-a213-46b9cb4dfe1b"
      },
      "outputs": [
        {
          "output_type": "stream",
          "name": "stdout",
          "text": [
            "(3682, 26)\n"
          ]
        }
      ],
      "source": [
        "print(X_train.shape)"
      ],
      "id": "a709fc2e"
    },
    {
      "cell_type": "markdown",
      "metadata": {
        "id": "35b0f86a"
      },
      "source": [
        "## Machine learning"
      ],
      "id": "35b0f86a"
    },
    {
      "cell_type": "markdown",
      "metadata": {
        "id": "ea2d5725"
      },
      "source": [
        "### Baseline accuracy\n",
        "\n",
        "_Before doing any machine learning, it's wise to get a baseline accuracy that we can compare our later results to.  For classification problems, the baseline accuracy is the accuracy you'd get by always predicting the most common target value.  This is sometimes called the \"zero rule\"._\n",
        "\n",
        "_First we compute the most common target value.  Note the use of return_counts=True in np.unique().  This make the output of np.unique() similar to value_counts() of Pandas._"
      ],
      "id": "ea2d5725"
    },
    {
      "cell_type": "code",
      "execution_count": null,
      "metadata": {
        "colab": {
          "base_uri": "https://localhost:8080/"
        },
        "id": "bccbdfbb",
        "outputId": "f235fbfa-f078-485c-d4c3-075863b875be"
      },
      "outputs": [
        {
          "output_type": "stream",
          "name": "stdout",
          "text": [
            "Most common target value: 1\n"
          ]
        }
      ],
      "source": [
        "vals, counts = np.unique(y_train, return_counts=True)\n",
        "target_mode = vals[counts.argmax()]\n",
        "print('Most common target value: {}'.format(target_mode))"
      ],
      "id": "bccbdfbb"
    },
    {
      "cell_type": "markdown",
      "metadata": {
        "id": "bcfdaa88"
      },
      "source": [
        "_It is more common for dogs to be adopted than not adoped.  Now we compute the training set accuracy._"
      ],
      "id": "bcfdaa88"
    },
    {
      "cell_type": "code",
      "execution_count": null,
      "metadata": {
        "colab": {
          "base_uri": "https://localhost:8080/"
        },
        "id": "a135bce6",
        "outputId": "eb953955-915e-4937-8f88-a659d96528de",
        "scrolled": true
      },
      "outputs": [
        {
          "output_type": "stream",
          "name": "stdout",
          "text": [
            "Baseline Accuracy:  0.567\n"
          ]
        }
      ],
      "source": [
        "#@ 2 Compute and print the baseline accuracy.\n",
        "# Hint: you will need target_mode.\n",
        "# Hint: use the training data, not the test data.\n",
        "\n",
        "# YOUR CODE HERE\n",
        "print(\"Baseline Accuracy: \",(y_train == np.median(y_train)).mean().round(3))"
      ],
      "id": "a135bce6"
    },
    {
      "cell_type": "markdown",
      "metadata": {
        "id": "2a53dffb"
      },
      "source": [
        "_We can achieve about 0.57 accuracy by always predicting that a dog will be adopted._\n",
        "\n",
        "_We are finally ready to start machine learning._\n",
        "\n",
        "_Following the process outlined in class (in the lecture on overfitting and learning curves), we want to start with a simple yet flexible classifier, and try to reach a situation of overfitting.  Then, we will reduce overfitting as needed._\n",
        "\n",
        "_We have seen two classifiers: KNN classification and logistic regression.  We'll start with KNN classification._"
      ],
      "id": "2a53dffb"
    },
    {
      "cell_type": "markdown",
      "metadata": {
        "id": "66a8341f"
      },
      "source": [
        "### KNN classifier\n",
        "\n",
        "_I'm saving the test data for a final evaluation of test accuracy.  Therefore, I'll evaluate the performance of the classifier using cross validation, not with test data._\n",
        "\n",
        "_I'm using k=3 in KNN because I expect I will achieve overfitting with a small value of n._"
      ],
      "id": "66a8341f"
    },
    {
      "cell_type": "code",
      "execution_count": null,
      "metadata": {
        "id": "8a6e238b"
      },
      "outputs": [],
      "source": [
        "#@ 3 Create a KNN classifier, assign to clf\n",
        "# Hint: this is easy; just be sure to use the correct Scikit-Learn estimator class,\n",
        "# and don't forget to use 3 as number of nearest neighbors.\n",
        "\n",
        "# YOUR CODE HERE\n",
        "clf = KNeighborsClassifier(n_neighbors=3)\n"
      ],
      "id": "8a6e238b"
    },
    {
      "cell_type": "code",
      "execution_count": null,
      "metadata": {
        "colab": {
          "base_uri": "https://localhost:8080/"
        },
        "id": "118ed33d",
        "outputId": "68dff16c-55be-4f67-ffc6-9333c739fd91"
      },
      "outputs": [
        {
          "output_type": "stream",
          "name": "stdout",
          "text": [
            "Cross-validation accuracy:  0.763\n"
          ]
        }
      ],
      "source": [
        "#@ 4 Compute and print the cross validation accuracy\n",
        "# Use 10-fold cross validation.\n",
        "# Hint: Use a Scikit-learn function to compute the cross-validation score.\n",
        "# Hint: We use training data to compute cross-validation scores.\n",
        "\n",
        "# YOUR CODE HERE\n",
        "clf.fit(X_train, y_train)\n",
        "print(\"Cross-validation accuracy: \",cross_val_score(clf, X_train, y_train, cv=10).mean().round(3))"
      ],
      "id": "118ed33d"
    },
    {
      "cell_type": "markdown",
      "metadata": {
        "id": "05d78d32"
      },
      "source": [
        "_This value is about 35% better than the baseline.  However, it could be that we are overfitting.  Let's create a learning curve._\n",
        "\n",
        "_The data for the learning curve takes some time to generate, because for each subset of the training data, we are performing cross validation.  I'm using cv=5 so that learning_curve() does not take too long to run._"
      ],
      "id": "05d78d32"
    },
    {
      "cell_type": "code",
      "execution_count": null,
      "metadata": {
        "colab": {
          "base_uri": "https://localhost:8080/"
        },
        "id": "fc2813a0",
        "outputId": "d455a8c7-af76-44c3-9e0f-bfab1d5a93d0"
      },
      "outputs": [
        {
          "output_type": "display_data",
          "data": {
            "text/plain": [
              "<Figure size 432x288 with 1 Axes>"
            ],
            "image/png": "[encoded data removed]"
          },
          "metadata": {}
        }
      ],
      "source": [
        "#@ 5 Produce a learning curve plot using learning_curve() and plot_learning_curve() functions.\n",
        "# The learning_curve() function is from Scikit-Learn.  The plot_learning_curve() function is\n",
        "# defined near the top of this file.\n",
        "# Use 5-fold cross-validation in creating the learning curve().\n",
        "\n",
        "# YOUR CODE HERE\n",
        "train_sizes, train_scores, test_scores = learning_curve(clf, X_train, y_train, cv=5,scoring='accuracy')\n",
        "\n",
        "train_scores_mean = np.mean(train_scores, axis=1)\n",
        "test_scores_mean = np.mean(test_scores, axis=1)\n",
        "plt.plot(train_sizes, train_scores_mean, label='train')\n",
        "plt.plot(train_sizes, test_scores_mean, label='test')\n",
        "plt.xlabel('training set size')\n",
        "plt.ylabel('accuracy')\n",
        "plt.title('Learning curve')\n",
        "plt.legend();"
      ],
      "id": "fc2813a0"
    },
    {
      "cell_type": "markdown",
      "metadata": {
        "id": "5f344805"
      },
      "source": [
        "_As I hoped, we are definitely overfitting.  The next step is to reduce overfitting.  With KNN classification, one way to do this is by increasing k.  I could create a learning curve for different values of k.  However, it will be faster to perform a simple grid search.  Anyway, the ultimate goal is a high test accuracy.  Avoiding overfitting is not a goal in itself, but simply a way to try to achieve high test accuracy._\n",
        "\n",
        "_I'll try k values of 7, 9, 11, ..., 21._"
      ],
      "id": "5f344805"
    },
    {
      "cell_type": "code",
      "execution_count": null,
      "metadata": {
        "id": "4d4986c1"
      },
      "outputs": [],
      "source": [
        "#@ 6 compute cross validation accuracy for KNN for k values of 7,9,11,...,21\n",
        "# Store the result in list cv_accuracy.  There will be one value in cv_accuracy\n",
        "# for each value in ks.\n",
        "# Use Scikit-Learn's cross_val_score() to compute cross-validation accuracy.\n",
        "# Use 5-fold cross validation.\n",
        "\n",
        "cv_accuracy = []\n",
        "ks = range(7, 22, 2)\n",
        "for k in ks:\n",
        "    knn = KNeighborsClassifier(n_neighbors=k)\n",
        "    # YOUR CODE HERE\n",
        "    accs = cross_val_score(knn, X_train, y_train,scoring=\"accuracy\", cv=5)\n",
        "    cv_accuracy.append(accs.mean())"
      ],
      "id": "4d4986c1"
    },
    {
      "cell_type": "code",
      "execution_count": null,
      "metadata": {
        "colab": {
          "base_uri": "https://localhost:8080/"
        },
        "id": "9d16bd3e",
        "outputId": "d74a84a3-85ca-42c4-ae81-3d03ef9ce594"
      },
      "outputs": [
        {
          "output_type": "display_data",
          "data": {
            "text/plain": [
              "<Figure size 432x288 with 1 Axes>"
            ],
            "image/png": "[encoded data removed]"
          },
          "metadata": {}
        }
      ],
      "source": [
        "plt.plot(ks, cv_accuracy)\n",
        "plt.title('Cross-validation accuracy by k')\n",
        "plt.xlabel('k')\n",
        "plt.ylabel('accuracy');"
      ],
      "id": "9d16bd3e"
    },
    {
      "cell_type": "markdown",
      "metadata": {
        "id": "5dc8f1ac"
      },
      "source": [
        "_This plot suggest a value of k=13 is a good choice.  However, looking at the y axis, we see that values between about 9 and 15 give very similar accuracies._\n",
        "\n",
        "_I'll create a new learning curve with this k value.  I expect overfitting to be reduced._"
      ],
      "id": "5dc8f1ac"
    },
    {
      "cell_type": "code",
      "execution_count": null,
      "metadata": {
        "id": "2f76ff59"
      },
      "outputs": [],
      "source": [
        "clf = KNeighborsClassifier(n_neighbors=13)"
      ],
      "id": "2f76ff59"
    },
    {
      "cell_type": "code",
      "execution_count": null,
      "metadata": {
        "colab": {
          "base_uri": "https://localhost:8080/"
        },
        "id": "40f2e486",
        "outputId": "557d885a-7a0f-4a4a-ae90-ba560c4826bf"
      },
      "outputs": [
        {
          "output_type": "display_data",
          "data": {
            "text/plain": [
              "<Figure size 432x288 with 1 Axes>"
            ],
            "image/png": "[encoded data removed]"
          },
          "metadata": {}
        }
      ],
      "source": [
        "#@ 7 produce a learning curve\n",
        "# Hint: this is similar to an earlier problem.\n",
        "# Make sure to use the KNN classifier just defined.\n",
        "# Use 5-fold cross-validation in creating the learning curve().\n",
        "\n",
        "# YOUR CODE HERE\n",
        "train_sizes, train_scores, test_scores = learning_curve(clf, X_train, y_train, cv=5,scoring='accuracy')\n",
        "\n",
        "train_scores_mean = np.mean(train_scores, axis=1)\n",
        "test_scores_mean = np.mean(test_scores, axis=1)\n",
        "plt.plot(train_sizes, train_scores_mean, label='train')\n",
        "plt.plot(train_sizes, test_scores_mean, label='test')\n",
        "plt.xlabel('training set size')\n",
        "plt.ylabel('accuracy')\n",
        "plt.title('Learning curve')\n",
        "plt.legend();"
      ],
      "id": "40f2e486"
    },
    {
      "cell_type": "markdown",
      "metadata": {
        "id": "51ab3662"
      },
      "source": [
        "_Overfitting has been reduced.  It looks like there is still a lot of overfitting, but if you look at the y axis, you can see that the range is much smaller than in the last learning curve.  The difference between training and test accuracy with a training set size of 3,000 is now only about 0.02.  Before it was 0.10 -- about 5 times larger._"
      ],
      "id": "51ab3662"
    },
    {
      "cell_type": "markdown",
      "metadata": {
        "id": "6af74f5c"
      },
      "source": [
        "_There are a couple of issues that might be affecting the accuracy I'm geting with the KNN classifier:_\n",
        "- _KNN works best with continuous data, and most of the variables in this data set are categorical._\n",
        "- _I haven't tried Manhattan distance or other distance functions._"
      ],
      "id": "6af74f5c"
    },
    {
      "cell_type": "markdown",
      "metadata": {
        "id": "bc1120eb"
      },
      "source": [
        "### Logistic regression"
      ],
      "id": "bc1120eb"
    },
    {
      "cell_type": "markdown",
      "metadata": {
        "id": "48ce4e03"
      },
      "source": [
        "_I want to repeat the process I used with KNN regression.  It's much faster to train logistic regression than KNN regression with a data set of this size._"
      ],
      "id": "48ce4e03"
    },
    {
      "cell_type": "code",
      "execution_count": null,
      "metadata": {
        "colab": {
          "base_uri": "https://localhost:8080/"
        },
        "id": "4922bee6",
        "outputId": "418c16dc-6e2b-4ff9-8b5d-32b70f106985"
      },
      "outputs": [
        {
          "output_type": "stream",
          "name": "stdout",
          "text": [
            "Cross-validation accuracy:  0.822\n"
          ]
        }
      ],
      "source": [
        "#@ 8 Compute and print the cross validation accuracy for a logistic regression classifier.\n",
        "# Hint: don't forget that we use training data when compute cross validation accuracy.\n",
        "\n",
        "# YOUR CODE HERE\n",
        "clf = LogisticRegression()\n",
        "print(\"Cross-validation accuracy: \",cross_val_score(clf, X_train, y_train, cv=10).mean().round(3))"
      ],
      "id": "4922bee6"
    },
    {
      "cell_type": "markdown",
      "metadata": {
        "id": "bd34a7a3"
      },
      "source": [
        "_Logistic regression is outperforming KNN regression right away._"
      ],
      "id": "bd34a7a3"
    },
    {
      "cell_type": "markdown",
      "metadata": {
        "id": "7c753f28"
      },
      "source": [
        "_To get an idea of which variables are most significant, we can look at the magnitude of their coefficients.  The coefficient magnitudes can only be compared directly if the data has been scaled, which it has._"
      ],
      "id": "7c753f28"
    },
    {
      "cell_type": "code",
      "execution_count": null,
      "metadata": {
        "colab": {
          "base_uri": "https://localhost:8080/"
        },
        "id": "8356d095",
        "outputId": "5b7a27cb-ec07-419e-f365-40df5ea72746"
      },
      "outputs": [
        {
          "output_type": "execute_result",
          "data": {
            "text/plain": [
              "LogisticRegression()"
            ]
          },
          "metadata": {},
          "execution_count": 41
        }
      ],
      "source": [
        "#@ 9 Create a logistic regression classifier (call it 'clf') and train it using the training data.\n",
        "# Hint: this is simple because logistic regression has no hyperparameters.\n",
        "\n",
        "# YOUR CODE HERE\n",
        "clf=LogisticRegression()\n",
        "clf.fit(X_train, y_train)"
      ],
      "id": "8356d095"
    },
    {
      "cell_type": "code",
      "execution_count": null,
      "metadata": {
        "colab": {
          "base_uri": "https://localhost:8080/",
          "height": 627
        },
        "id": "31804a6e",
        "scrolled": false,
        "outputId": "607299e8-88f3-479e-ff9c-adeca440ecdb"
      },
      "outputs": [
        {
          "output_type": "display_data",
          "data": {
            "text/plain": [
              "<Figure size 576x720 with 1 Axes>"
            ],
            "image/png": "[encoded data removed]"
          },
          "metadata": {}
        }
      ],
      "source": [
        "#@ 10 In a horizontal bar plot, plot the coefficient associated with each predictor variable.\n",
        "# For title, use \"Predictor coefficient values for logistic regression\".\n",
        "# The predictor names should be listed on the y axis.  No y axis label is needed.\n",
        "# For x axis label, use \"coefficient value\".\n",
        "# Hint: use plt.figure(figsize=(<width>, <height>)) to make sure your plot is large enough.\n",
        "# (You must supply values for parameters <width> and <height>.)\n",
        "\n",
        "# YOUR CODE HERE\n",
        "# list = []\n",
        "# for i in range(len(predictors)):\n",
        "#   list = clf.coef_[i]\n",
        "\n",
        "\n",
        "#list.plot.barh()\n",
        "\n",
        "#[clf.intercept_,clf.coef_[1],clf.coef[2]].plot.barh() \n",
        "\n",
        "# len(predictors)\n",
        "# predictors\n",
        "\n",
        "\n",
        "# y.shape\n",
        "\n",
        "# X = np.random.rand(10, 2)\n",
        "# y = np.random.choice([0,1], 10)\n",
        "# regr = LogisticRegression()\n",
        "# regr.fit(X, y)\n",
        "# x=np.sort(clf.coef_[0])\n",
        "# print(regr.coef_.shape)\n",
        "# sns.barplot(x=x,y=predictors)\n",
        "plt.figure(figsize=(8,10))\n",
        "# plt.barh(predictors,clf.coef_[0])\n",
        "pred =pd.Series(clf.coef_[0])\n",
        "pred.index = predictors\n",
        "pred.plot.barh();\n",
        "plt.title('Predictor coefficient values for logistic regression')  \n",
        "plt.xlabel('Coefficient value');\n"
      ],
      "id": "31804a6e"
    },
    {
      "cell_type": "code",
      "execution_count": null,
      "metadata": {
        "id": "24852abe"
      },
      "outputs": [],
      "source": [
        "#@ 11 Comment on the plot you have just created in the markdown cell immediately below.\n",
        "# Hint: What did you learn from the plot?\n",
        "\n"
      ],
      "id": "24852abe"
    },
    {
      "cell_type": "markdown",
      "metadata": {
        "id": "ec78e63b"
      },
      "source": [
        "According to the graph, the adoption of dogs in shelters whose conditions are untreatable are highly correlated with the adoption of dogs. According to the graph, there are a greater number of dogs whose condition is untreatable and unknown; probably all of them are strays and are less likely to be adopted. It was also interesting to learn that Pitbulls were the most commonly confiscated and stray dogs. "
      ],
      "id": "ec78e63b"
    },
    {
      "cell_type": "markdown",
      "metadata": {
        "id": "b051e81c"
      },
      "source": [
        "What is the learning curve like for our logistic regression model?_"
      ],
      "id": "b051e81c"
    },
    {
      "cell_type": "code",
      "execution_count": null,
      "metadata": {
        "colab": {
          "base_uri": "https://localhost:8080/",
          "height": 301
        },
        "id": "bf69da1b",
        "scrolled": true,
        "outputId": "75e73f2c-5c6d-474e-e091-04c02d2f1dd9"
      },
      "outputs": [
        {
          "output_type": "display_data",
          "data": {
            "text/plain": [
              "<Figure size 432x288 with 1 Axes>"
            ],
            "image/png": "[encoded data removed]"
          },
          "metadata": {}
        }
      ],
      "source": [
        "train_sizes, train_scores, test_scores = learning_curve(clf, X_train, y_train, cv=10, scoring='accuracy')\n",
        "plot_learning_curve(train_sizes, train_scores, test_scores)"
      ],
      "id": "bf69da1b"
    },
    {
      "cell_type": "markdown",
      "metadata": {
        "id": "14d42de2"
      },
      "source": [
        "_It is is not a strongly high bias or high variance situation, but I would lean towards interpreting this as high bias situation because the test and training accuracy differ by only about 0.005 before all the training data is used._\n",
        "\n",
        "_One idea would be to add more features using Polynomial features.  However, if we use only degree 2, and interaction features only, we will end up with more than 300 features.  This is a very large number of features for a training data set with only about 3500 rows._"
      ],
      "id": "14d42de2"
    },
    {
      "cell_type": "markdown",
      "metadata": {
        "id": "8164b2b7"
      },
      "source": [
        "#### Confusion matrix\n",
        "\n",
        "_I'll produce a confusion matrix now to see where the predictions are wrong._"
      ],
      "id": "8164b2b7"
    },
    {
      "cell_type": "code",
      "execution_count": null,
      "metadata": {
        "id": "4d4acfca"
      },
      "outputs": [],
      "source": [
        "y_pred = cross_val_predict(clf, X_train, y_train, cv=5)"
      ],
      "id": "4d4acfca"
    },
    {
      "cell_type": "code",
      "execution_count": null,
      "metadata": {
        "colab": {
          "base_uri": "https://localhost:8080/"
        },
        "id": "d16208f6",
        "outputId": "4d83f008-ed69-4912-f610-9d77d09d2a08"
      },
      "outputs": [
        {
          "output_type": "stream",
          "name": "stdout",
          "text": [
            "                 predicted       \n",
            "actual     Not adopted    Adopted\n",
            "Not adopted       1064        529\n",
            "Adopted            130       1959\n"
          ]
        }
      ],
      "source": [
        "#@ 12 Plot the confusion matrix.\n",
        "# Use the print_conf_mtx() method provided near the top of the file.\n",
        "\n",
        "# YOUR CODE HERE\n",
        "print_conf_mtx(y_train, y_pred,classes=['Not adopted','Adopted'])"
      ],
      "id": "d16208f6"
    },
    {
      "cell_type": "markdown",
      "metadata": {
        "id": "de89223f"
      },
      "source": [
        "The confusion matrix shows that most of the errors are for the case where we predict a dog is adopted but actually it is not adopted._"
      ],
      "id": "de89223f"
    },
    {
      "cell_type": "markdown",
      "metadata": {
        "id": "a587e48b"
      },
      "source": [
        "### Compute test accuracy"
      ],
      "id": "a587e48b"
    },
    {
      "cell_type": "markdown",
      "metadata": {
        "id": "415a46d6"
      },
      "source": [
        "_Using cross-validation I've found that logistic regression seems to outperform KNN regression for this classification problem._\n",
        "\n",
        "_As a final step, I'll train a logistic regression classifier on the full training data set and then compute the test accuracy._"
      ],
      "id": "415a46d6"
    },
    {
      "cell_type": "code",
      "execution_count": null,
      "metadata": {
        "id": "d11c08ab"
      },
      "outputs": [],
      "source": [
        "#@ 13 Compute the final test accuracy and store it to variable 'score'.\n",
        "\n",
        "# YOUR CODE HERE\n",
        "score=clf.score(X_test,y_test)"
      ],
      "id": "d11c08ab"
    },
    {
      "cell_type": "code",
      "execution_count": null,
      "metadata": {
        "colab": {
          "base_uri": "https://localhost:8080/"
        },
        "id": "6144a594",
        "outputId": "73cd541b-e3ea-425b-9d72-b5547b6acbc2"
      },
      "outputs": [
        {
          "output_type": "stream",
          "name": "stdout",
          "text": [
            "Test accuracy: 0.820\n"
          ]
        }
      ],
      "source": [
        "print('Test accuracy: {:.3f}'.format(score))"
      ],
      "id": "6144a594"
    },
    {
      "cell_type": "markdown",
      "metadata": {
        "id": "2e8fbb5c"
      },
      "source": [
        "### Conclusion"
      ],
      "id": "2e8fbb5c"
    },
    {
      "cell_type": "code",
      "execution_count": null,
      "metadata": {
        "id": "033188d3"
      },
      "outputs": [],
      "source": [
        "#@ 14 In the cell below, write your own conclusions"
      ],
      "id": "033188d3"
    },
    {
      "cell_type": "markdown",
      "metadata": {
        "id": "36ff5fe0"
      },
      "source": [
        "Pitbulls and Pitbull mix dogs make up 20% of all dogs.And the dogs that mostly enter the shelter are strays. There is a 57 percent chance that a dog will be adopted. Also, about half the dogs are returned to their owners. And about 1 in 10 dogs that enter the shelter are euthanized. Also, smaller dogs are mostly adopted."
      ],
      "id": "36ff5fe0"
    }
  ],
  "metadata": {
    "colab": {
      "provenance": [],
      "include_colab_link": true
    },
    "kernelspec": {
      "display_name": "Python 3 (ipykernel)",
      "language": "python",
      "name": "python3"
    },
    "language_info": {
      "codemirror_mode": {
        "name": "ipython",
        "version": 3
      },
      "file_extension": ".py",
      "mimetype": "text/x-python",
      "name": "python",
      "nbconvert_exporter": "python",
      "pygments_lexer": "ipython3",
      "version": "3.8.8"
    }
  },
  "nbformat": 4,
  "nbformat_minor": 5
}